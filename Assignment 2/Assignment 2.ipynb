{
 "cells": [
  {
   "cell_type": "markdown",
   "metadata": {
    "id": "y-uH4vCQMRsH"
   },
   "source": [
    "Objective: To categorize unseen pictures (test data) into cats and dogs by training a convolutional network on a dataset including images of cats and dogs. The model will learn the characteristics of these images.  "
   ]
  },
  {
   "cell_type": "markdown",
   "metadata": {
    "id": "y-uH4vCQMRsH"
   },
   "source": [
    "1. Consider the Cats & Dogs example. Start initially with a training sample of 1000, a validation sample of 500, and a test sample of 500 (like in the text. Use any technique to reduce overfitting and improve performance in developing a network that you train from scratch. What performance did you achieve?"
   ]
  },
  {
   "cell_type": "markdown",
   "metadata": {
    "id": "eyYYnSqRhh0t"
   },
   "source": [
    "### Downloading the data"
   ]
  },
  {
   "cell_type": "code",
   "execution_count": 1,
   "metadata": {
    "colab": {
     "base_uri": "https://localhost:8080/",
     "height": 91
    },
    "id": "HW2jBxGChh0t",
    "outputId": "a6c31b28-88a5-4071-b665-eba37cc33cc6"
   },
   "outputs": [
    {
     "data": {
      "text/html": [
       "\n",
       "     <input type=\"file\" id=\"files-b3d39790-97ad-4f91-bd08-dc7401b2a615\" name=\"files[]\" multiple disabled\n",
       "        style=\"border:none\" />\n",
       "     <output id=\"result-b3d39790-97ad-4f91-bd08-dc7401b2a615\">\n",
       "      Upload widget is only available when the cell has been executed in the\n",
       "      current browser session. Please rerun this cell to enable.\n",
       "      </output>\n",
       "      <script>// Copyright 2017 Google LLC\n",
       "//\n",
       "// Licensed under the Apache License, Version 2.0 (the \"License\");\n",
       "// you may not use this file except in compliance with the License.\n",
       "// You may obtain a copy of the License at\n",
       "//\n",
       "//      http://www.apache.org/licenses/LICENSE-2.0\n",
       "//\n",
       "// Unless required by applicable law or agreed to in writing, software\n",
       "// distributed under the License is distributed on an \"AS IS\" BASIS,\n",
       "// WITHOUT WARRANTIES OR CONDITIONS OF ANY KIND, either express or implied.\n",
       "// See the License for the specific language governing permissions and\n",
       "// limitations under the License.\n",
       "\n",
       "/**\n",
       " * @fileoverview Helpers for google.colab Python module.\n",
       " */\n",
       "(function(scope) {\n",
       "function span(text, styleAttributes = {}) {\n",
       "  const element = document.createElement('span');\n",
       "  element.textContent = text;\n",
       "  for (const key of Object.keys(styleAttributes)) {\n",
       "    element.style[key] = styleAttributes[key];\n",
       "  }\n",
       "  return element;\n",
       "}\n",
       "\n",
       "// Max number of bytes which will be uploaded at a time.\n",
       "const MAX_PAYLOAD_SIZE = 100 * 1024;\n",
       "\n",
       "function _uploadFiles(inputId, outputId) {\n",
       "  const steps = uploadFilesStep(inputId, outputId);\n",
       "  const outputElement = document.getElementById(outputId);\n",
       "  // Cache steps on the outputElement to make it available for the next call\n",
       "  // to uploadFilesContinue from Python.\n",
       "  outputElement.steps = steps;\n",
       "\n",
       "  return _uploadFilesContinue(outputId);\n",
       "}\n",
       "\n",
       "// This is roughly an async generator (not supported in the browser yet),\n",
       "// where there are multiple asynchronous steps and the Python side is going\n",
       "// to poll for completion of each step.\n",
       "// This uses a Promise to block the python side on completion of each step,\n",
       "// then passes the result of the previous step as the input to the next step.\n",
       "function _uploadFilesContinue(outputId) {\n",
       "  const outputElement = document.getElementById(outputId);\n",
       "  const steps = outputElement.steps;\n",
       "\n",
       "  const next = steps.next(outputElement.lastPromiseValue);\n",
       "  return Promise.resolve(next.value.promise).then((value) => {\n",
       "    // Cache the last promise value to make it available to the next\n",
       "    // step of the generator.\n",
       "    outputElement.lastPromiseValue = value;\n",
       "    return next.value.response;\n",
       "  });\n",
       "}\n",
       "\n",
       "/**\n",
       " * Generator function which is called between each async step of the upload\n",
       " * process.\n",
       " * @param {string} inputId Element ID of the input file picker element.\n",
       " * @param {string} outputId Element ID of the output display.\n",
       " * @return {!Iterable<!Object>} Iterable of next steps.\n",
       " */\n",
       "function* uploadFilesStep(inputId, outputId) {\n",
       "  const inputElement = document.getElementById(inputId);\n",
       "  inputElement.disabled = false;\n",
       "\n",
       "  const outputElement = document.getElementById(outputId);\n",
       "  outputElement.innerHTML = '';\n",
       "\n",
       "  const pickedPromise = new Promise((resolve) => {\n",
       "    inputElement.addEventListener('change', (e) => {\n",
       "      resolve(e.target.files);\n",
       "    });\n",
       "  });\n",
       "\n",
       "  const cancel = document.createElement('button');\n",
       "  inputElement.parentElement.appendChild(cancel);\n",
       "  cancel.textContent = 'Cancel upload';\n",
       "  const cancelPromise = new Promise((resolve) => {\n",
       "    cancel.onclick = () => {\n",
       "      resolve(null);\n",
       "    };\n",
       "  });\n",
       "\n",
       "  // Wait for the user to pick the files.\n",
       "  const files = yield {\n",
       "    promise: Promise.race([pickedPromise, cancelPromise]),\n",
       "    response: {\n",
       "      action: 'starting',\n",
       "    }\n",
       "  };\n",
       "\n",
       "  cancel.remove();\n",
       "\n",
       "  // Disable the input element since further picks are not allowed.\n",
       "  inputElement.disabled = true;\n",
       "\n",
       "  if (!files) {\n",
       "    return {\n",
       "      response: {\n",
       "        action: 'complete',\n",
       "      }\n",
       "    };\n",
       "  }\n",
       "\n",
       "  for (const file of files) {\n",
       "    const li = document.createElement('li');\n",
       "    li.append(span(file.name, {fontWeight: 'bold'}));\n",
       "    li.append(span(\n",
       "        `(${file.type || 'n/a'}) - ${file.size} bytes, ` +\n",
       "        `last modified: ${\n",
       "            file.lastModifiedDate ? file.lastModifiedDate.toLocaleDateString() :\n",
       "                                    'n/a'} - `));\n",
       "    const percent = span('0% done');\n",
       "    li.appendChild(percent);\n",
       "\n",
       "    outputElement.appendChild(li);\n",
       "\n",
       "    const fileDataPromise = new Promise((resolve) => {\n",
       "      const reader = new FileReader();\n",
       "      reader.onload = (e) => {\n",
       "        resolve(e.target.result);\n",
       "      };\n",
       "      reader.readAsArrayBuffer(file);\n",
       "    });\n",
       "    // Wait for the data to be ready.\n",
       "    let fileData = yield {\n",
       "      promise: fileDataPromise,\n",
       "      response: {\n",
       "        action: 'continue',\n",
       "      }\n",
       "    };\n",
       "\n",
       "    // Use a chunked sending to avoid message size limits. See b/62115660.\n",
       "    let position = 0;\n",
       "    do {\n",
       "      const length = Math.min(fileData.byteLength - position, MAX_PAYLOAD_SIZE);\n",
       "      const chunk = new Uint8Array(fileData, position, length);\n",
       "      position += length;\n",
       "\n",
       "      const base64 = btoa(String.fromCharCode.apply(null, chunk));\n",
       "      yield {\n",
       "        response: {\n",
       "          action: 'append',\n",
       "          file: file.name,\n",
       "          data: base64,\n",
       "        },\n",
       "      };\n",
       "\n",
       "      let percentDone = fileData.byteLength === 0 ?\n",
       "          100 :\n",
       "          Math.round((position / fileData.byteLength) * 100);\n",
       "      percent.textContent = `${percentDone}% done`;\n",
       "\n",
       "    } while (position < fileData.byteLength);\n",
       "  }\n",
       "\n",
       "  // All done.\n",
       "  yield {\n",
       "    response: {\n",
       "      action: 'complete',\n",
       "    }\n",
       "  };\n",
       "}\n",
       "\n",
       "scope.google = scope.google || {};\n",
       "scope.google.colab = scope.google.colab || {};\n",
       "scope.google.colab._files = {\n",
       "  _uploadFiles,\n",
       "  _uploadFilesContinue,\n",
       "};\n",
       "})(self);\n",
       "</script> "
      ],
      "text/plain": [
       "<IPython.core.display.HTML object>"
      ]
     },
     "metadata": {},
     "output_type": "display_data"
    },
    {
     "name": "stdout",
     "output_type": "stream",
     "text": [
      "Saving kaggle.json to kaggle.json\n"
     ]
    },
    {
     "data": {
      "text/plain": [
       "{'kaggle.json': b'{\"username\":\"hanishbhogadi\",\"key\":\"93a196a669a3693f8e2103b6868721d4\"}'}"
      ]
     },
     "execution_count": 1,
     "metadata": {},
     "output_type": "execute_result"
    }
   ],
   "source": [
    "from google.colab import files\n",
    "files.upload()"
   ]
  },
  {
   "cell_type": "code",
   "execution_count": 2,
   "metadata": {
    "id": "I8V10a2Nhh0t"
   },
   "outputs": [],
   "source": [
    "!mkdir ~/.kaggle\n",
    "!cp kaggle.json ~/.kaggle/\n",
    "!chmod 600 ~/.kaggle/kaggle.json"
   ]
  },
  {
   "cell_type": "code",
   "execution_count": 4,
   "metadata": {
    "colab": {
     "base_uri": "https://localhost:8080/"
    },
    "id": "i0eU0-c5kyPM",
    "outputId": "2cd0815c-4f3c-48b2-edd2-8bcd3456d949"
   },
   "outputs": [
    {
     "name": "stdout",
     "output_type": "stream",
     "text": [
      "Mounted at /content/drive\n"
     ]
    }
   ],
   "source": [
    "from google.colab import drive\n",
    "drive.mount('/content/drive')\n"
   ]
  },
  {
   "cell_type": "code",
   "execution_count": 5,
   "metadata": {
    "colab": {
     "base_uri": "https://localhost:8080/"
    },
    "id": "X9_plssihh0u",
    "outputId": "8ed72e21-08fb-4261-c7af-ccca490aafad"
   },
   "outputs": [
    {
     "name": "stdout",
     "output_type": "stream",
     "text": [
      "Downloading dogs-vs-cats.zip to /content\n",
      " 99% 802M/812M [00:06<00:00, 176MB/s]\n",
      "100% 812M/812M [00:06<00:00, 122MB/s]\n"
     ]
    }
   ],
   "source": [
    "!kaggle competitions download -c dogs-vs-cats"
   ]
  },
  {
   "cell_type": "code",
   "execution_count": 6,
   "metadata": {
    "id": "xIqQFKYtlDys"
   },
   "outputs": [],
   "source": [
    "!unzip -qq dogs-vs-cats.zip"
   ]
  },
  {
   "cell_type": "code",
   "execution_count": 7,
   "metadata": {
    "id": "GxC4Fmqhhh0u"
   },
   "outputs": [],
   "source": [
    "!unzip -qq train.zip"
   ]
  },
  {
   "cell_type": "markdown",
   "metadata": {
    "id": "zJ6Ii4dmhh0u"
   },
   "source": [
    "**Copying images to training, validation, and test directories**"
   ]
  },
  {
   "cell_type": "code",
   "execution_count": 8,
   "metadata": {
    "id": "V-2mNek1hh0u"
   },
   "outputs": [],
   "source": [
    "import os, shutil, pathlib\n",
    "\n",
    "original_dir = pathlib.Path(\"train\")\n",
    "new_base_dir = pathlib.Path(\"cats_vs_dogs_small\")\n",
    "\n",
    "def make_subset(subset_name, start_index, end_index):\n",
    "    for category in (\"cat\", \"dog\"):\n",
    "        dir = new_base_dir / subset_name / category\n",
    "        os.makedirs(dir)\n",
    "        fnames = [f\"{category}.{i}.jpg\" for i in range(start_index, end_index)]\n",
    "        for fname in fnames:\n",
    "            shutil.copyfile(src=original_dir / fname,\n",
    "                            dst=dir / fname)\n",
    "\n",
    "make_subset(\"train\", start_index=0, end_index=1000)\n",
    "make_subset(\"validation\", start_index=1000, end_index=1500)\n",
    "make_subset(\"test\", start_index=1500, end_index=2000)"
   ]
  },
  {
   "cell_type": "markdown",
   "metadata": {
    "id": "oG3uvdyNhh0v"
   },
   "source": [
    "**Using `image_dataset_from_directory` to read images**"
   ]
  },
  {
   "cell_type": "code",
   "execution_count": 9,
   "metadata": {
    "colab": {
     "base_uri": "https://localhost:8080/"
    },
    "id": "3w3djpb3hh0v",
    "outputId": "dfb8fd2e-fee7-4cd5-bfb3-7514727b6b2e"
   },
   "outputs": [
    {
     "name": "stdout",
     "output_type": "stream",
     "text": [
      "Found 2000 files belonging to 2 classes.\n",
      "Found 1000 files belonging to 2 classes.\n",
      "Found 1000 files belonging to 2 classes.\n"
     ]
    }
   ],
   "source": [
    "from tensorflow.keras.utils import image_dataset_from_directory\n",
    "\n",
    "train_dataset = image_dataset_from_directory(\n",
    "    new_base_dir / \"train\",\n",
    "    image_size=(180, 180),\n",
    "    batch_size=32)\n",
    "validation_dataset = image_dataset_from_directory(\n",
    "    new_base_dir / \"validation\",\n",
    "    image_size=(180, 180),\n",
    "    batch_size=32)\n",
    "test_dataset = image_dataset_from_directory(\n",
    "    new_base_dir / \"test\",\n",
    "    image_size=(180, 180),\n",
    "    batch_size=32)"
   ]
  },
  {
   "cell_type": "code",
   "execution_count": 10,
   "metadata": {
    "id": "hZz7Yk6Ghh0v"
   },
   "outputs": [],
   "source": [
    "import numpy as np\n",
    "import tensorflow as tf\n",
    "random_numbers = np.random.normal(size=(1000, 16))\n",
    "dataset = tf.data.Dataset.from_tensor_slices(random_numbers)"
   ]
  },
  {
   "cell_type": "code",
   "execution_count": 11,
   "metadata": {
    "colab": {
     "base_uri": "https://localhost:8080/"
    },
    "id": "Bt76DVezhh0v",
    "outputId": "a4020739-fb25-4f3f-f2d2-1db92217b666"
   },
   "outputs": [
    {
     "name": "stdout",
     "output_type": "stream",
     "text": [
      "(16,)\n",
      "(16,)\n",
      "(16,)\n"
     ]
    }
   ],
   "source": [
    "for i, element in enumerate(dataset):\n",
    "    print(element.shape)\n",
    "    if i >= 2:\n",
    "        break"
   ]
  },
  {
   "cell_type": "code",
   "execution_count": 12,
   "metadata": {
    "colab": {
     "base_uri": "https://localhost:8080/"
    },
    "id": "o1AffxxIhh0v",
    "outputId": "52a578fe-ed9e-4b93-cbbb-46430fd68693"
   },
   "outputs": [
    {
     "name": "stdout",
     "output_type": "stream",
     "text": [
      "(32, 16)\n",
      "(32, 16)\n",
      "(32, 16)\n"
     ]
    }
   ],
   "source": [
    "batched_dataset = dataset.batch(32)\n",
    "for i, element in enumerate(batched_dataset):\n",
    "    print(element.shape)\n",
    "    if i >= 2:\n",
    "        break"
   ]
  },
  {
   "cell_type": "code",
   "execution_count": 13,
   "metadata": {
    "colab": {
     "base_uri": "https://localhost:8080/"
    },
    "id": "qMtQkfluhh0v",
    "outputId": "feb84200-763d-48fd-81ab-9950d7325129"
   },
   "outputs": [
    {
     "name": "stdout",
     "output_type": "stream",
     "text": [
      "(4, 4)\n",
      "(4, 4)\n",
      "(4, 4)\n"
     ]
    }
   ],
   "source": [
    "reshaped_dataset = dataset.map(lambda x: tf.reshape(x, (4, 4)))\n",
    "for i, element in enumerate(reshaped_dataset):\n",
    "    print(element.shape)\n",
    "    if i >= 2:\n",
    "        break"
   ]
  },
  {
   "cell_type": "code",
   "execution_count": 14,
   "metadata": {
    "colab": {
     "base_uri": "https://localhost:8080/"
    },
    "id": "Pur6bWIihh0w",
    "outputId": "50426455-fd98-4282-faed-89edb6b045dc"
   },
   "outputs": [
    {
     "name": "stdout",
     "output_type": "stream",
     "text": [
      "data batch shape: (32, 180, 180, 3)\n",
      "labels batch shape: (32,)\n"
     ]
    }
   ],
   "source": [
    "for data_batch, labels_batch in train_dataset:\n",
    "    print(\"data batch shape:\", data_batch.shape)\n",
    "    print(\"labels batch shape:\", labels_batch.shape)\n",
    "    break"
   ]
  },
  {
   "cell_type": "markdown",
   "metadata": {
    "id": "VVLxQU82hh0u"
   },
   "source": [
    "### Building the model"
   ]
  },
  {
   "cell_type": "markdown",
   "metadata": {
    "id": "aEy8xyZWhh0u"
   },
   "source": [
    "**Instantiating a small convnet for dogs vs. cats classification**"
   ]
  },
  {
   "cell_type": "code",
   "execution_count": 15,
   "metadata": {
    "id": "Z_niH0nyhh0u"
   },
   "outputs": [],
   "source": [
    "from tensorflow import keras\n",
    "from tensorflow.keras import layers\n",
    "\n",
    "inputs = keras.Input(shape=(180, 180, 3))\n",
    "x = layers.Rescaling(1./255)(inputs)\n",
    "x = layers.Conv2D(filters=32, kernel_size=3, activation=\"relu\")(x)\n",
    "x = layers.MaxPooling2D(pool_size=2)(x)\n",
    "x = layers.Conv2D(filters=64, kernel_size=3, activation=\"relu\")(x)\n",
    "x = layers.MaxPooling2D(pool_size=2)(x)\n",
    "x = layers.Conv2D(filters=128, kernel_size=3, activation=\"relu\")(x)\n",
    "x = layers.MaxPooling2D(pool_size=2)(x)\n",
    "x = layers.Conv2D(filters=256, kernel_size=3, activation=\"relu\")(x)\n",
    "x = layers.MaxPooling2D(pool_size=2)(x)\n",
    "x = layers.Conv2D(filters=256, kernel_size=3, activation=\"relu\")(x)\n",
    "x = layers.Flatten()(x)\n",
    "x = layers.Dropout(0.5) (x)\n",
    "outputs = layers.Dense(1, activation=\"sigmoid\")(x)\n",
    "model = keras.Model(inputs=inputs, outputs=outputs)"
   ]
  },
  {
   "cell_type": "code",
   "execution_count": 16,
   "metadata": {
    "colab": {
     "base_uri": "https://localhost:8080/"
    },
    "id": "WJIruzaXhh0u",
    "outputId": "036aee24-de7a-4b26-9c57-50b308987cb8"
   },
   "outputs": [
    {
     "name": "stdout",
     "output_type": "stream",
     "text": [
      "Model: \"model\"\n",
      "_________________________________________________________________\n",
      " Layer (type)                Output Shape              Param #   \n",
      "=================================================================\n",
      " input_1 (InputLayer)        [(None, 180, 180, 3)]     0         \n",
      "                                                                 \n",
      " rescaling (Rescaling)       (None, 180, 180, 3)       0         \n",
      "                                                                 \n",
      " conv2d (Conv2D)             (None, 178, 178, 32)      896       \n",
      "                                                                 \n",
      " max_pooling2d (MaxPooling2D  (None, 89, 89, 32)       0         \n",
      " )                                                               \n",
      "                                                                 \n",
      " conv2d_1 (Conv2D)           (None, 87, 87, 64)        18496     \n",
      "                                                                 \n",
      " max_pooling2d_1 (MaxPooling  (None, 43, 43, 64)       0         \n",
      " 2D)                                                             \n",
      "                                                                 \n",
      " conv2d_2 (Conv2D)           (None, 41, 41, 128)       73856     \n",
      "                                                                 \n",
      " max_pooling2d_2 (MaxPooling  (None, 20, 20, 128)      0         \n",
      " 2D)                                                             \n",
      "                                                                 \n",
      " conv2d_3 (Conv2D)           (None, 18, 18, 256)       295168    \n",
      "                                                                 \n",
      " max_pooling2d_3 (MaxPooling  (None, 9, 9, 256)        0         \n",
      " 2D)                                                             \n",
      "                                                                 \n",
      " conv2d_4 (Conv2D)           (None, 7, 7, 256)         590080    \n",
      "                                                                 \n",
      " flatten (Flatten)           (None, 12544)             0         \n",
      "                                                                 \n",
      " dropout (Dropout)           (None, 12544)             0         \n",
      "                                                                 \n",
      " dense (Dense)               (None, 1)                 12545     \n",
      "                                                                 \n",
      "=================================================================\n",
      "Total params: 991,041\n",
      "Trainable params: 991,041\n",
      "Non-trainable params: 0\n",
      "_________________________________________________________________\n"
     ]
    }
   ],
   "source": [
    "model.summary()"
   ]
  },
  {
   "cell_type": "markdown",
   "metadata": {
    "id": "rw5zaRdYhh0v"
   },
   "source": [
    "**Configuring the model for training**"
   ]
  },
  {
   "cell_type": "code",
   "execution_count": 17,
   "metadata": {
    "id": "Y5TiuS92hh0v"
   },
   "outputs": [],
   "source": [
    "model.compile(loss=\"binary_crossentropy\",\n",
    "              optimizer=\"adam\",\n",
    "              metrics=[\"accuracy\"])"
   ]
  },
  {
   "cell_type": "markdown",
   "metadata": {
    "id": "S0lwSFPNhh0v"
   },
   "source": [
    "### Data preprocessing"
   ]
  },
  {
   "cell_type": "markdown",
   "metadata": {
    "id": "zwdfsTwlhh0w"
   },
   "source": [
    "**Displaying the shapes of the data and labels yielded by the `Dataset`**"
   ]
  },
  {
   "cell_type": "markdown",
   "metadata": {
    "id": "s5edin6phh0w"
   },
   "source": [
    "**Fitting the model using a `Dataset`**"
   ]
  },
  {
   "cell_type": "code",
   "execution_count": 18,
   "metadata": {
    "colab": {
     "base_uri": "https://localhost:8080/"
    },
    "id": "gc5QYUFYhh0w",
    "outputId": "2d5900bb-8fa7-4cb8-aecb-d5a06f8b84e8"
   },
   "outputs": [
    {
     "name": "stdout",
     "output_type": "stream",
     "text": [
      "Epoch 1/30\n",
      "63/63 [==============================] - 15s 83ms/step - loss: 0.6941 - accuracy: 0.5055 - val_loss: 0.6908 - val_accuracy: 0.5830\n",
      "Epoch 2/30\n",
      "63/63 [==============================] - 5s 72ms/step - loss: 0.6849 - accuracy: 0.5725 - val_loss: 0.6597 - val_accuracy: 0.6110\n",
      "Epoch 3/30\n",
      "63/63 [==============================] - 5s 70ms/step - loss: 0.6629 - accuracy: 0.5935 - val_loss: 0.6956 - val_accuracy: 0.5120\n",
      "Epoch 4/30\n",
      "63/63 [==============================] - 5s 70ms/step - loss: 0.6608 - accuracy: 0.6105 - val_loss: 0.6331 - val_accuracy: 0.6460\n",
      "Epoch 5/30\n",
      "63/63 [==============================] - 5s 72ms/step - loss: 0.6226 - accuracy: 0.6575 - val_loss: 0.5908 - val_accuracy: 0.6890\n",
      "Epoch 6/30\n",
      "63/63 [==============================] - 5s 70ms/step - loss: 0.5868 - accuracy: 0.7095 - val_loss: 0.6014 - val_accuracy: 0.6730\n",
      "Epoch 7/30\n",
      "63/63 [==============================] - 5s 71ms/step - loss: 0.5885 - accuracy: 0.6915 - val_loss: 0.5793 - val_accuracy: 0.6980\n",
      "Epoch 8/30\n",
      "63/63 [==============================] - 5s 71ms/step - loss: 0.5489 - accuracy: 0.7255 - val_loss: 0.5883 - val_accuracy: 0.6780\n",
      "Epoch 9/30\n",
      "63/63 [==============================] - 5s 73ms/step - loss: 0.4990 - accuracy: 0.7560 - val_loss: 0.5737 - val_accuracy: 0.7130\n",
      "Epoch 10/30\n",
      "63/63 [==============================] - 5s 70ms/step - loss: 0.4720 - accuracy: 0.7875 - val_loss: 0.6957 - val_accuracy: 0.6690\n",
      "Epoch 11/30\n",
      "63/63 [==============================] - 5s 73ms/step - loss: 0.4655 - accuracy: 0.7740 - val_loss: 0.5672 - val_accuracy: 0.7290\n",
      "Epoch 12/30\n",
      "63/63 [==============================] - 5s 70ms/step - loss: 0.3960 - accuracy: 0.8215 - val_loss: 0.6269 - val_accuracy: 0.7190\n",
      "Epoch 13/30\n",
      "63/63 [==============================] - 5s 70ms/step - loss: 0.3400 - accuracy: 0.8445 - val_loss: 0.6660 - val_accuracy: 0.7290\n",
      "Epoch 14/30\n",
      "63/63 [==============================] - 5s 72ms/step - loss: 0.3016 - accuracy: 0.8710 - val_loss: 0.6695 - val_accuracy: 0.7430\n",
      "Epoch 15/30\n",
      "63/63 [==============================] - 5s 71ms/step - loss: 0.2749 - accuracy: 0.8835 - val_loss: 0.6115 - val_accuracy: 0.7500\n",
      "Epoch 16/30\n",
      "63/63 [==============================] - 5s 71ms/step - loss: 0.2414 - accuracy: 0.9005 - val_loss: 0.6838 - val_accuracy: 0.7280\n",
      "Epoch 17/30\n",
      "63/63 [==============================] - 5s 71ms/step - loss: 0.1937 - accuracy: 0.9170 - val_loss: 0.7406 - val_accuracy: 0.7550\n",
      "Epoch 18/30\n",
      "63/63 [==============================] - 5s 71ms/step - loss: 0.1416 - accuracy: 0.9425 - val_loss: 0.8495 - val_accuracy: 0.7460\n",
      "Epoch 19/30\n",
      "63/63 [==============================] - 5s 71ms/step - loss: 0.1339 - accuracy: 0.9515 - val_loss: 0.8059 - val_accuracy: 0.7440\n",
      "Epoch 20/30\n",
      "63/63 [==============================] - 5s 71ms/step - loss: 0.1465 - accuracy: 0.9435 - val_loss: 0.7993 - val_accuracy: 0.7550\n",
      "Epoch 21/30\n",
      "63/63 [==============================] - 5s 71ms/step - loss: 0.1210 - accuracy: 0.9565 - val_loss: 0.9161 - val_accuracy: 0.7590\n",
      "Epoch 22/30\n",
      "63/63 [==============================] - 5s 70ms/step - loss: 0.0877 - accuracy: 0.9680 - val_loss: 0.9131 - val_accuracy: 0.7640\n",
      "Epoch 23/30\n",
      "63/63 [==============================] - 5s 72ms/step - loss: 0.0572 - accuracy: 0.9800 - val_loss: 0.9904 - val_accuracy: 0.7680\n",
      "Epoch 24/30\n",
      "63/63 [==============================] - 5s 69ms/step - loss: 0.0678 - accuracy: 0.9785 - val_loss: 1.0383 - val_accuracy: 0.7540\n",
      "Epoch 25/30\n",
      "63/63 [==============================] - 5s 73ms/step - loss: 0.0809 - accuracy: 0.9690 - val_loss: 1.0485 - val_accuracy: 0.7370\n",
      "Epoch 26/30\n",
      "63/63 [==============================] - 5s 72ms/step - loss: 0.0607 - accuracy: 0.9810 - val_loss: 1.1658 - val_accuracy: 0.7270\n",
      "Epoch 27/30\n",
      "63/63 [==============================] - 5s 72ms/step - loss: 0.0904 - accuracy: 0.9690 - val_loss: 1.0342 - val_accuracy: 0.7570\n",
      "Epoch 28/30\n",
      "63/63 [==============================] - 5s 71ms/step - loss: 0.0287 - accuracy: 0.9900 - val_loss: 1.1247 - val_accuracy: 0.7640\n",
      "Epoch 29/30\n",
      "63/63 [==============================] - 5s 71ms/step - loss: 0.0299 - accuracy: 0.9900 - val_loss: 1.1210 - val_accuracy: 0.7760\n",
      "Epoch 30/30\n",
      "63/63 [==============================] - 5s 69ms/step - loss: 0.0349 - accuracy: 0.9880 - val_loss: 1.2068 - val_accuracy: 0.7460\n"
     ]
    }
   ],
   "source": [
    "from keras.callbacks import ModelCheckpoint, EarlyStopping\n",
    "callbacks = [\n",
    "    keras.callbacks.ModelCheckpoint(\n",
    "        filepath=\"convnet_from_scratch.keras\",\n",
    "        save_best_only=True,\n",
    "        monitor=\"val_loss\")\n",
    "]\n",
    "history = model.fit(\n",
    "    train_dataset,\n",
    "    epochs=30,\n",
    "    validation_data=validation_dataset,\n",
    "    callbacks=callbacks)"
   ]
  },
  {
   "cell_type": "markdown",
   "metadata": {
    "id": "Ma1lQ4l2hh0w"
   },
   "source": [
    "**Displaying curves of loss and accuracy during training**"
   ]
  },
  {
   "cell_type": "code",
   "execution_count": 19,
   "metadata": {
    "colab": {
     "base_uri": "https://localhost:8080/",
     "height": 888
    },
    "id": "Wu6IA6qUhh0w",
    "outputId": "cf493ac0-d34b-4c44-8347-c2c5e2f6015b"
   },
   "outputs": [
    {
     "data": {
      "image/png": "[encoded data removed]",
      "text/plain": [
       "<Figure size 432x288 with 1 Axes>"
      ]
     },
     "metadata": {
      "needs_background": "light"
     },
     "output_type": "display_data"
    },
    {
     "data": {
      "text/plain": [
       "<Figure size 432x288 with 0 Axes>"
      ]
     },
     "metadata": {},
     "output_type": "display_data"
    },
    {
     "data": {
      "image/png": "[encoded data removed]",
      "text/plain": [
       "<Figure size 720x720 with 1 Axes>"
      ]
     },
     "metadata": {
      "needs_background": "light"
     },
     "output_type": "display_data"
    }
   ],
   "source": [
    "import matplotlib.pyplot as plt\n",
    "accuracy = history.history[\"accuracy\"]\n",
    "val_accuracy = history.history[\"val_accuracy\"]\n",
    "loss = history.history[\"loss\"]\n",
    "val_loss = history.history[\"val_loss\"]\n",
    "epochs = range(1, len(accuracy) + 1)\n",
    "plt.plot(epochs, accuracy, \"bo\", label=\"Training accuracy\")\n",
    "plt.plot(epochs, val_accuracy, \"b\", label=\"Validation accuracy\")\n",
    "plt.title(\"Training and validation accuracy\")\n",
    "plt.legend()\n",
    "plt.figure()\n",
    "plt.figure(figsize=(10, 10))\n",
    "plt.plot(epochs, loss, \"bo\", label=\"Training loss\")\n",
    "plt.plot(epochs, val_loss, \"b\", label=\"Validation loss\")\n",
    "plt.title(\"Training and validation loss\")\n",
    "plt.legend()\n",
    "plt.show()"
   ]
  },
  {
   "cell_type": "markdown",
   "metadata": {
    "id": "ytB530d6hh0w"
   },
   "source": [
    "**Evaluating the model on the test set**"
   ]
  },
  {
   "cell_type": "code",
   "execution_count": 20,
   "metadata": {
    "colab": {
     "base_uri": "https://localhost:8080/"
    },
    "id": "uVPZ4iLGhh0w",
    "outputId": "1787b737-cf69-449d-dfcf-d99f2ba7e35f"
   },
   "outputs": [
    {
     "name": "stdout",
     "output_type": "stream",
     "text": [
      "32/32 [==============================] - 2s 36ms/step - loss: 0.6322 - accuracy: 0.7020\n",
      "Test accuracy: 0.702\n"
     ]
    }
   ],
   "source": [
    "test_model = keras.models.load_model(\"convnet_from_scratch.keras\")\n",
    "test_loss, test_acc = test_model.evaluate(test_dataset)\n",
    "print(f\"Test accuracy: {test_acc:.3f}\")"
   ]
  },
  {
   "cell_type": "markdown",
   "metadata": {
    "id": "anZcqaAPMauK"
   },
   "source": [
    "The above model clearly indicates that the model is overfit with a train accuracy of 97.85%. \n",
    "We have considered Epoch 23 to evaluate the model.\n",
    "Test Accuracy - 70.2 which means model is unable to generalize well.\n",
    "\n",
    "Moving further we will try to reduce overfit and able to generalize well by using different techniques."
   ]
  },
  {
   "cell_type": "markdown",
   "metadata": {
    "id": "anZcqaAPMauK"
   },
   "source": [
    "Q2. Increase your training sample size. You may pick any amount. Keep the validation and test samples the same as above. Optimize your network (again training from scratch). What performance did you achieve?"
   ]
  },
  {
   "cell_type": "markdown",
   "metadata": {
    "id": "L3mNlDU6hh0w"
   },
   "source": [
    "### Using data augmentation"
   ]
  },
  {
   "cell_type": "markdown",
   "metadata": {
    "id": "_TDUPVQbhh0w"
   },
   "source": [
    "**Define a data augmentation stage to add to an image model**"
   ]
  },
  {
   "cell_type": "code",
   "execution_count": 21,
   "metadata": {
    "id": "x2_gkxt5G87a"
   },
   "outputs": [],
   "source": [
    "import os, shutil, pathlib\n",
    "\n",
    "shutil.rmtree(\"./cats_vs_dogs_small_Q2\", ignore_errors=True)\n",
    "\n",
    "original_dir = pathlib.Path(\"train\")\n",
    "new_base_dir = pathlib.Path(\"cats_vs_dogs_small_Q2\")\n",
    "\n",
    "def make_subset(subset_name, start_index, end_index):\n",
    "    for category in (\"cat\", \"dog\"):\n",
    "        dir = new_base_dir / subset_name / category\n",
    "        os.makedirs(dir)\n",
    "        fnames = [f\"{category}.{i}.jpg\" for i in range(start_index, end_index)]\n",
    "        for fname in fnames:\n",
    "            shutil.copyfile(src=original_dir / fname,\n",
    "                            dst=dir / fname)\n",
    "#Creating training, Test and validation sets.\n",
    "#Training has 1000 samples, test has 500 samples and validation has 500 samples.\n",
    "make_subset(\"train\", start_index=0, end_index=1500)\n",
    "make_subset(\"validation\", start_index=1500, end_index=2000)\n",
    "make_subset(\"test\", start_index=2000, end_index=2500)"
   ]
  },
  {
   "cell_type": "code",
   "execution_count": 22,
   "metadata": {
    "id": "iv7NvnE-hh0x"
   },
   "outputs": [],
   "source": [
    "data_augmentation = keras.Sequential(\n",
    "    [\n",
    "        layers.RandomFlip(\"horizontal\"),\n",
    "        layers.RandomRotation(0.1),\n",
    "        layers.RandomZoom(0.2),\n",
    "    ]\n",
    ")"
   ]
  },
  {
   "cell_type": "markdown",
   "metadata": {
    "id": "c_ubapVPhh0x"
   },
   "source": [
    "**Displaying some randomly augmented training images**"
   ]
  },
  {
   "cell_type": "code",
   "execution_count": 23,
   "metadata": {
    "colab": {
     "base_uri": "https://localhost:8080/",
     "height": 575
    },
    "id": "IjXTj8zThh0x",
    "outputId": "4a2f8d5b-c4ce-4805-f621-3a2799719587"
   },
   "outputs": [
    {
     "data": {
      "image/png": "[encoded data removed]",
      "text/plain": [
       "<Figure size 720x720 with 9 Axes>"
      ]
     },
     "metadata": {
      "needs_background": "light"
     },
     "output_type": "display_data"
    }
   ],
   "source": [
    "plt.figure(figsize=(10, 10))\n",
    "for images, _ in train_dataset.take(1):\n",
    "    for i in range(9):\n",
    "        augmented_images = data_augmentation(images)\n",
    "        ax = plt.subplot(3, 3, i + 1)\n",
    "        plt.imshow(augmented_images[0].numpy().astype(\"uint8\"))\n",
    "        plt.axis(\"off\")"
   ]
  },
  {
   "cell_type": "markdown",
   "metadata": {
    "id": "bshdZhREhh0x"
   },
   "source": [
    "**Defining a new convnet that includes image augmentation and dropout**"
   ]
  },
  {
   "cell_type": "code",
   "execution_count": 24,
   "metadata": {
    "id": "lK_FRDm-hh0y"
   },
   "outputs": [],
   "source": [
    "inputs = keras.Input(shape=(180, 180, 3))\n",
    "x = data_augmentation(inputs)\n",
    "x = layers.Rescaling(1./255)(x)\n",
    "x = layers.Conv2D(filters=32, kernel_size=3, activation=\"relu\")(x)\n",
    "x = layers.MaxPooling2D(pool_size=2)(x)\n",
    "x = layers.Conv2D(filters=64, kernel_size=3, activation=\"relu\")(x)\n",
    "x = layers.MaxPooling2D(pool_size=2)(x)\n",
    "x = layers.Conv2D(filters=128, kernel_size=3, activation=\"relu\")(x)\n",
    "x = layers.MaxPooling2D(pool_size=2)(x)\n",
    "x = layers.Conv2D(filters=256, kernel_size=3, activation=\"relu\")(x)\n",
    "x = layers.MaxPooling2D(pool_size=2)(x)\n",
    "x = layers.Conv2D(filters=256, kernel_size=3, activation=\"relu\")(x)\n",
    "x = layers.Flatten()(x)\n",
    "x = layers.Dropout(0.5)(x)\n",
    "outputs = layers.Dense(1, activation=\"sigmoid\")(x)\n",
    "model = keras.Model(inputs=inputs, outputs=outputs)\n",
    "\n",
    "model.compile(loss=\"binary_crossentropy\",\n",
    "              optimizer=\"adam\",\n",
    "              metrics=[\"accuracy\"])"
   ]
  },
  {
   "cell_type": "markdown",
   "metadata": {
    "id": "g9efUVqDhh0y"
   },
   "source": [
    "**Training the regularized convnet**"
   ]
  },
  {
   "cell_type": "code",
   "execution_count": 25,
   "metadata": {
    "colab": {
     "base_uri": "https://localhost:8080/"
    },
    "id": "b5u0HIrFhh0y",
    "outputId": "c9cc19b5-1708-411d-b8f9-c7c89b7e13a7"
   },
   "outputs": [
    {
     "name": "stdout",
     "output_type": "stream",
     "text": [
      "Epoch 1/50\n",
      "63/63 [==============================] - 8s 99ms/step - loss: 0.6952 - accuracy: 0.4870 - val_loss: 0.6927 - val_accuracy: 0.4990\n",
      "Epoch 2/50\n",
      "63/63 [==============================] - 6s 94ms/step - loss: 0.6942 - accuracy: 0.4815 - val_loss: 0.6931 - val_accuracy: 0.5010\n",
      "Epoch 3/50\n",
      "63/63 [==============================] - 6s 96ms/step - loss: 0.6917 - accuracy: 0.5080 - val_loss: 0.6931 - val_accuracy: 0.5050\n",
      "Epoch 4/50\n",
      "63/63 [==============================] - 6s 96ms/step - loss: 0.6903 - accuracy: 0.5245 - val_loss: 0.6837 - val_accuracy: 0.5600\n",
      "Epoch 5/50\n",
      "63/63 [==============================] - 6s 95ms/step - loss: 0.6929 - accuracy: 0.5205 - val_loss: 0.6929 - val_accuracy: 0.5110\n",
      "Epoch 6/50\n",
      "63/63 [==============================] - 6s 95ms/step - loss: 0.6937 - accuracy: 0.5190 - val_loss: 0.6966 - val_accuracy: 0.5000\n",
      "Epoch 7/50\n",
      "63/63 [==============================] - 6s 93ms/step - loss: 0.6889 - accuracy: 0.5310 - val_loss: 0.6898 - val_accuracy: 0.5350\n",
      "Epoch 8/50\n",
      "63/63 [==============================] - 6s 96ms/step - loss: 0.6827 - accuracy: 0.5680 - val_loss: 0.6747 - val_accuracy: 0.5560\n",
      "Epoch 9/50\n",
      "63/63 [==============================] - 6s 95ms/step - loss: 0.6784 - accuracy: 0.5595 - val_loss: 0.6714 - val_accuracy: 0.5700\n",
      "Epoch 10/50\n",
      "63/63 [==============================] - 6s 96ms/step - loss: 0.6677 - accuracy: 0.6040 - val_loss: 0.6654 - val_accuracy: 0.6050\n",
      "Epoch 11/50\n",
      "63/63 [==============================] - 6s 96ms/step - loss: 0.6533 - accuracy: 0.6310 - val_loss: 0.6559 - val_accuracy: 0.6240\n",
      "Epoch 12/50\n",
      "63/63 [==============================] - 6s 95ms/step - loss: 0.6391 - accuracy: 0.6470 - val_loss: 0.6687 - val_accuracy: 0.6180\n",
      "Epoch 13/50\n",
      "63/63 [==============================] - 6s 94ms/step - loss: 0.6229 - accuracy: 0.6520 - val_loss: 0.6168 - val_accuracy: 0.6710\n",
      "Epoch 14/50\n",
      "63/63 [==============================] - 6s 95ms/step - loss: 0.6082 - accuracy: 0.6700 - val_loss: 0.5883 - val_accuracy: 0.6790\n",
      "Epoch 15/50\n",
      "63/63 [==============================] - 6s 94ms/step - loss: 0.6102 - accuracy: 0.6685 - val_loss: 0.6098 - val_accuracy: 0.6610\n",
      "Epoch 16/50\n",
      "63/63 [==============================] - 6s 94ms/step - loss: 0.6010 - accuracy: 0.6760 - val_loss: 0.5699 - val_accuracy: 0.7160\n",
      "Epoch 17/50\n",
      "63/63 [==============================] - 6s 95ms/step - loss: 0.5885 - accuracy: 0.6950 - val_loss: 0.5672 - val_accuracy: 0.7140\n",
      "Epoch 18/50\n",
      "63/63 [==============================] - 6s 95ms/step - loss: 0.5782 - accuracy: 0.6960 - val_loss: 0.5511 - val_accuracy: 0.7060\n",
      "Epoch 19/50\n",
      "63/63 [==============================] - 6s 94ms/step - loss: 0.5589 - accuracy: 0.7160 - val_loss: 0.6718 - val_accuracy: 0.6560\n",
      "Epoch 20/50\n",
      "63/63 [==============================] - 6s 94ms/step - loss: 0.5625 - accuracy: 0.7105 - val_loss: 0.5355 - val_accuracy: 0.7320\n",
      "Epoch 21/50\n",
      "63/63 [==============================] - 6s 95ms/step - loss: 0.5562 - accuracy: 0.7060 - val_loss: 0.5367 - val_accuracy: 0.7290\n",
      "Epoch 22/50\n",
      "63/63 [==============================] - 6s 94ms/step - loss: 0.5344 - accuracy: 0.7210 - val_loss: 0.5107 - val_accuracy: 0.7470\n",
      "Epoch 23/50\n",
      "63/63 [==============================] - 6s 94ms/step - loss: 0.5359 - accuracy: 0.7285 - val_loss: 0.5295 - val_accuracy: 0.7340\n",
      "Epoch 24/50\n",
      "63/63 [==============================] - 6s 96ms/step - loss: 0.5125 - accuracy: 0.7485 - val_loss: 0.5044 - val_accuracy: 0.7500\n",
      "Epoch 25/50\n",
      "63/63 [==============================] - 6s 96ms/step - loss: 0.5203 - accuracy: 0.7430 - val_loss: 0.4782 - val_accuracy: 0.7670\n",
      "Epoch 26/50\n",
      "63/63 [==============================] - 6s 96ms/step - loss: 0.5051 - accuracy: 0.7505 - val_loss: 0.4727 - val_accuracy: 0.7660\n",
      "Epoch 27/50\n",
      "63/63 [==============================] - 6s 95ms/step - loss: 0.4805 - accuracy: 0.7710 - val_loss: 0.4616 - val_accuracy: 0.7710\n",
      "Epoch 28/50\n",
      "63/63 [==============================] - 6s 98ms/step - loss: 0.4714 - accuracy: 0.7760 - val_loss: 0.4533 - val_accuracy: 0.7800\n",
      "Epoch 29/50\n",
      "63/63 [==============================] - 6s 96ms/step - loss: 0.4647 - accuracy: 0.7885 - val_loss: 0.4559 - val_accuracy: 0.7890\n",
      "Epoch 30/50\n",
      "63/63 [==============================] - 7s 99ms/step - loss: 0.4695 - accuracy: 0.7715 - val_loss: 0.4313 - val_accuracy: 0.7980\n",
      "Epoch 31/50\n",
      "63/63 [==============================] - 6s 96ms/step - loss: 0.4458 - accuracy: 0.7885 - val_loss: 0.4577 - val_accuracy: 0.7630\n",
      "Epoch 32/50\n",
      "63/63 [==============================] - 6s 98ms/step - loss: 0.4348 - accuracy: 0.7840 - val_loss: 0.4504 - val_accuracy: 0.7760\n",
      "Epoch 33/50\n",
      "63/63 [==============================] - 6s 96ms/step - loss: 0.4372 - accuracy: 0.7975 - val_loss: 0.4490 - val_accuracy: 0.7740\n",
      "Epoch 34/50\n",
      "63/63 [==============================] - 6s 94ms/step - loss: 0.4232 - accuracy: 0.7960 - val_loss: 0.4557 - val_accuracy: 0.7810\n",
      "Epoch 35/50\n",
      "63/63 [==============================] - 6s 98ms/step - loss: 0.4258 - accuracy: 0.8050 - val_loss: 0.4507 - val_accuracy: 0.7860\n",
      "Epoch 36/50\n",
      "63/63 [==============================] - 6s 97ms/step - loss: 0.4091 - accuracy: 0.8045 - val_loss: 0.4165 - val_accuracy: 0.8090\n",
      "Epoch 37/50\n",
      "63/63 [==============================] - 6s 96ms/step - loss: 0.4284 - accuracy: 0.8115 - val_loss: 0.4526 - val_accuracy: 0.7880\n",
      "Epoch 38/50\n",
      "63/63 [==============================] - 6s 95ms/step - loss: 0.4153 - accuracy: 0.8035 - val_loss: 0.4366 - val_accuracy: 0.8110\n",
      "Epoch 39/50\n",
      "63/63 [==============================] - 6s 96ms/step - loss: 0.4159 - accuracy: 0.8140 - val_loss: 0.4509 - val_accuracy: 0.7940\n",
      "Epoch 40/50\n",
      "63/63 [==============================] - 6s 97ms/step - loss: 0.4020 - accuracy: 0.8120 - val_loss: 0.4322 - val_accuracy: 0.8000\n",
      "Epoch 41/50\n",
      "63/63 [==============================] - 6s 96ms/step - loss: 0.4054 - accuracy: 0.8150 - val_loss: 0.4151 - val_accuracy: 0.8150\n",
      "Epoch 42/50\n",
      "63/63 [==============================] - 6s 96ms/step - loss: 0.3810 - accuracy: 0.8350 - val_loss: 0.4269 - val_accuracy: 0.8080\n",
      "Epoch 43/50\n",
      "63/63 [==============================] - 6s 96ms/step - loss: 0.3854 - accuracy: 0.8280 - val_loss: 0.4484 - val_accuracy: 0.8010\n",
      "Epoch 44/50\n",
      "63/63 [==============================] - 6s 98ms/step - loss: 0.3661 - accuracy: 0.8400 - val_loss: 0.4593 - val_accuracy: 0.8100\n",
      "Epoch 45/50\n",
      "63/63 [==============================] - 6s 97ms/step - loss: 0.3994 - accuracy: 0.8150 - val_loss: 0.4699 - val_accuracy: 0.7950\n",
      "Epoch 46/50\n",
      "63/63 [==============================] - 6s 95ms/step - loss: 0.3776 - accuracy: 0.8225 - val_loss: 0.4230 - val_accuracy: 0.8190\n",
      "Epoch 47/50\n",
      "63/63 [==============================] - 6s 96ms/step - loss: 0.3674 - accuracy: 0.8260 - val_loss: 0.4949 - val_accuracy: 0.8060\n",
      "Epoch 48/50\n",
      "63/63 [==============================] - 6s 97ms/step - loss: 0.3603 - accuracy: 0.8425 - val_loss: 0.4842 - val_accuracy: 0.7990\n",
      "Epoch 49/50\n",
      "63/63 [==============================] - 6s 95ms/step - loss: 0.3404 - accuracy: 0.8470 - val_loss: 0.4373 - val_accuracy: 0.8140\n",
      "Epoch 50/50\n",
      "63/63 [==============================] - 6s 96ms/step - loss: 0.3561 - accuracy: 0.8460 - val_loss: 0.4569 - val_accuracy: 0.8110\n"
     ]
    }
   ],
   "source": [
    "callbacks = [\n",
    "    keras.callbacks.ModelCheckpoint(\n",
    "        filepath=\"convnet_from_scratch_with_augmentation.keras\",\n",
    "        save_best_only=True,\n",
    "        monitor=\"val_loss\")\n",
    "]\n",
    "history = model.fit(\n",
    "    train_dataset,\n",
    "    epochs=50,\n",
    "    validation_data=validation_dataset,\n",
    "    callbacks=callbacks)"
   ]
  },
  {
   "cell_type": "markdown",
   "metadata": {
    "id": "x2MsTtIfhh0y"
   },
   "source": [
    "**Evaluating the model on the test set**"
   ]
  },
  {
   "cell_type": "code",
   "execution_count": 26,
   "metadata": {
    "colab": {
     "base_uri": "https://localhost:8080/"
    },
    "id": "aV1o92Qghh0z",
    "outputId": "5c43caa6-29fa-4771-dd99-05daec82a5b8"
   },
   "outputs": [
    {
     "name": "stdout",
     "output_type": "stream",
     "text": [
      "32/32 [==============================] - 2s 36ms/step - loss: 0.4885 - accuracy: 0.7820\n",
      "Test accuracy: 0.782\n"
     ]
    }
   ],
   "source": [
    "test_model = keras.models.load_model(\n",
    "    \"convnet_from_scratch_with_augmentation.keras\")\n",
    "test_loss, test_acc = test_model.evaluate(test_dataset)\n",
    "print(f\"Test accuracy: {test_acc:.3f}\")"
   ]
  },
  {
   "cell_type": "markdown",
   "metadata": {},
   "source": [
    "Here we can see that test accuracy increased from 70.20% to 78.20%. This increment is due to increase in training sample and able to reduce overfit by using Data augmentation. \n",
    "\n",
    "We have increased the training data points from 1000 to 1500\n",
    "We have considered Epoch 46 to evaluate the model."
   ]
  },
  {
   "cell_type": "markdown",
   "metadata": {
    "id": "T1cEMbSlMuvH"
   },
   "source": [
    "Q3. Now change your training sample so that you achieve better performance than those from Steps 1 and 2. This sample size may be larger, or smaller than those in the previous steps. The objective is to find the ideal training sample size to get best prediction results."
   ]
  },
  {
   "cell_type": "markdown",
   "metadata": {
    "id": "yLl_8vT9NLDL"
   },
   "source": [
    "Increasing the training sample to 2000, keeping the Validation and test sets the same as before(500 samples)"
   ]
  },
  {
   "cell_type": "code",
   "execution_count": 27,
   "metadata": {
    "id": "BQwvLu9zJfyA"
   },
   "outputs": [],
   "source": [
    "original_dir = pathlib.Path(\"train\")\n",
    "new_base_dir = pathlib.Path(\"cats_vs_dogs_small_Q3\")\n",
    "\n",
    "def make_subset(subset_name, start_index, end_index):\n",
    "    for category in (\"cat\", \"dog\"):\n",
    "        dir = new_base_dir / subset_name / category\n",
    "        os.makedirs(dir)\n",
    "        fnames = [f\"{category}.{i}.jpg\" for i in range(start_index, end_index)]\n",
    "        for fname in fnames:\n",
    "            shutil.copyfile(src=original_dir / fname,\n",
    "                            dst=dir / fname)\n",
    "#Creating training, Test and validation sets.\n",
    "#Training has 2000 samples, test has 500 samples and validation has 500 samples.\n",
    "make_subset(\"train\", start_index=0, end_index=2000)\n",
    "make_subset(\"validation\", start_index=2000, end_index=2500)\n",
    "make_subset(\"test\", start_index=2500, end_index=3000)"
   ]
  },
  {
   "cell_type": "markdown",
   "metadata": {
    "id": "7dzTmfRZNFYw"
   },
   "source": [
    "Defining a new convnet with increased training samples,image augmentation and dropout"
   ]
  },
  {
   "cell_type": "code",
   "execution_count": 28,
   "metadata": {
    "id": "Rt5vQOMfJniE"
   },
   "outputs": [],
   "source": [
    "inputs = keras.Input(shape=(180, 180, 3))\n",
    "x = data_augmentation(inputs)\n",
    "x = layers.Rescaling(1./255)(x)\n",
    "x = layers.Conv2D(filters=32, kernel_size=3, activation=\"relu\")(x)\n",
    "x = layers.MaxPooling2D(pool_size=2)(x)\n",
    "x = layers.Conv2D(filters=64, kernel_size=3, activation=\"relu\")(x)\n",
    "x = layers.MaxPooling2D(pool_size=2)(x)\n",
    "x = layers.Conv2D(filters=128, kernel_size=3, activation=\"relu\")(x)\n",
    "x = layers.MaxPooling2D(pool_size=2)(x)\n",
    "x = layers.Conv2D(filters=256, kernel_size=3, activation=\"relu\")(x)\n",
    "x = layers.MaxPooling2D(pool_size=2)(x)\n",
    "x = layers.Conv2D(filters=256, kernel_size=3, activation=\"relu\")(x)\n",
    "x = layers.Flatten()(x)\n",
    "x = layers.Dropout(0.5)(x)\n",
    "outputs = layers.Dense(1, activation=\"sigmoid\")(x)\n",
    "model = keras.Model(inputs=inputs, outputs=outputs)\n",
    "\n",
    "model.compile(loss=\"binary_crossentropy\",\n",
    "              optimizer=\"adam\",\n",
    "              metrics=[\"accuracy\"])"
   ]
  },
  {
   "cell_type": "code",
   "execution_count": 29,
   "metadata": {
    "colab": {
     "base_uri": "https://localhost:8080/"
    },
    "id": "33bm_DBwJrbF",
    "outputId": "f40ea7ea-d482-4578-cd5d-c3d25093b5a6"
   },
   "outputs": [
    {
     "name": "stdout",
     "output_type": "stream",
     "text": [
      "Epoch 1/50\n",
      "63/63 [==============================] - 8s 100ms/step - loss: 0.6957 - accuracy: 0.4990 - val_loss: 0.6932 - val_accuracy: 0.5000\n",
      "Epoch 2/50\n",
      "63/63 [==============================] - 6s 98ms/step - loss: 0.6932 - accuracy: 0.5045 - val_loss: 0.6870 - val_accuracy: 0.5550\n",
      "Epoch 3/50\n",
      "63/63 [==============================] - 6s 95ms/step - loss: 0.6893 - accuracy: 0.5310 - val_loss: 0.6949 - val_accuracy: 0.5060\n",
      "Epoch 4/50\n",
      "63/63 [==============================] - 6s 99ms/step - loss: 0.6899 - accuracy: 0.5225 - val_loss: 0.6784 - val_accuracy: 0.5500\n",
      "Epoch 5/50\n",
      "63/63 [==============================] - 6s 97ms/step - loss: 0.6813 - accuracy: 0.5620 - val_loss: 0.6802 - val_accuracy: 0.5540\n",
      "Epoch 6/50\n",
      "63/63 [==============================] - 6s 95ms/step - loss: 0.6896 - accuracy: 0.5335 - val_loss: 0.6861 - val_accuracy: 0.5450\n",
      "Epoch 7/50\n",
      "63/63 [==============================] - 6s 95ms/step - loss: 0.6850 - accuracy: 0.5320 - val_loss: 0.6927 - val_accuracy: 0.5000\n",
      "Epoch 8/50\n",
      "63/63 [==============================] - 6s 97ms/step - loss: 0.6871 - accuracy: 0.5305 - val_loss: 0.6866 - val_accuracy: 0.5380\n",
      "Epoch 9/50\n",
      "63/63 [==============================] - 6s 96ms/step - loss: 0.6848 - accuracy: 0.5625 - val_loss: 0.6877 - val_accuracy: 0.5580\n",
      "Epoch 10/50\n",
      "63/63 [==============================] - 6s 96ms/step - loss: 0.6788 - accuracy: 0.5750 - val_loss: 0.6594 - val_accuracy: 0.5930\n",
      "Epoch 11/50\n",
      "63/63 [==============================] - 6s 96ms/step - loss: 0.6565 - accuracy: 0.6255 - val_loss: 0.6453 - val_accuracy: 0.6250\n",
      "Epoch 12/50\n",
      "63/63 [==============================] - 6s 96ms/step - loss: 0.6475 - accuracy: 0.6220 - val_loss: 0.6235 - val_accuracy: 0.6470\n",
      "Epoch 13/50\n",
      "63/63 [==============================] - 6s 97ms/step - loss: 0.6304 - accuracy: 0.6545 - val_loss: 0.6008 - val_accuracy: 0.6910\n",
      "Epoch 14/50\n",
      "63/63 [==============================] - 6s 96ms/step - loss: 0.6187 - accuracy: 0.6690 - val_loss: 0.6401 - val_accuracy: 0.6370\n",
      "Epoch 15/50\n",
      "63/63 [==============================] - 6s 96ms/step - loss: 0.6139 - accuracy: 0.6675 - val_loss: 0.6029 - val_accuracy: 0.6620\n",
      "Epoch 16/50\n",
      "63/63 [==============================] - 6s 98ms/step - loss: 0.5918 - accuracy: 0.6910 - val_loss: 0.5868 - val_accuracy: 0.6820\n",
      "Epoch 17/50\n",
      "63/63 [==============================] - 6s 95ms/step - loss: 0.5707 - accuracy: 0.7085 - val_loss: 0.6639 - val_accuracy: 0.6570\n",
      "Epoch 18/50\n",
      "63/63 [==============================] - 6s 95ms/step - loss: 0.5799 - accuracy: 0.6840 - val_loss: 0.5812 - val_accuracy: 0.6910\n",
      "Epoch 19/50\n",
      "63/63 [==============================] - 6s 98ms/step - loss: 0.5547 - accuracy: 0.7080 - val_loss: 0.5505 - val_accuracy: 0.7250\n",
      "Epoch 20/50\n",
      "63/63 [==============================] - 6s 96ms/step - loss: 0.5501 - accuracy: 0.7135 - val_loss: 0.5510 - val_accuracy: 0.7140\n",
      "Epoch 21/50\n",
      "63/63 [==============================] - 6s 96ms/step - loss: 0.5340 - accuracy: 0.7250 - val_loss: 0.5501 - val_accuracy: 0.7200\n",
      "Epoch 22/50\n",
      "63/63 [==============================] - 6s 96ms/step - loss: 0.5232 - accuracy: 0.7465 - val_loss: 0.5345 - val_accuracy: 0.7320\n",
      "Epoch 23/50\n",
      "63/63 [==============================] - 6s 97ms/step - loss: 0.5121 - accuracy: 0.7455 - val_loss: 0.5222 - val_accuracy: 0.7430\n",
      "Epoch 24/50\n",
      "63/63 [==============================] - 6s 96ms/step - loss: 0.5192 - accuracy: 0.7445 - val_loss: 0.5055 - val_accuracy: 0.7450\n",
      "Epoch 25/50\n",
      "63/63 [==============================] - 6s 97ms/step - loss: 0.5032 - accuracy: 0.7635 - val_loss: 0.4977 - val_accuracy: 0.7720\n",
      "Epoch 26/50\n",
      "63/63 [==============================] - 6s 97ms/step - loss: 0.4993 - accuracy: 0.7530 - val_loss: 0.5169 - val_accuracy: 0.7460\n",
      "Epoch 27/50\n",
      "63/63 [==============================] - 6s 98ms/step - loss: 0.4804 - accuracy: 0.7720 - val_loss: 0.4962 - val_accuracy: 0.7560\n",
      "Epoch 28/50\n",
      "63/63 [==============================] - 6s 97ms/step - loss: 0.4780 - accuracy: 0.7785 - val_loss: 0.4951 - val_accuracy: 0.7370\n",
      "Epoch 29/50\n",
      "63/63 [==============================] - 6s 96ms/step - loss: 0.4812 - accuracy: 0.7685 - val_loss: 0.4941 - val_accuracy: 0.7510\n",
      "Epoch 30/50\n",
      "63/63 [==============================] - 6s 96ms/step - loss: 0.4651 - accuracy: 0.7745 - val_loss: 0.5070 - val_accuracy: 0.7510\n",
      "Epoch 31/50\n",
      "63/63 [==============================] - 6s 98ms/step - loss: 0.4567 - accuracy: 0.7905 - val_loss: 0.4628 - val_accuracy: 0.7880\n",
      "Epoch 32/50\n",
      "63/63 [==============================] - 6s 97ms/step - loss: 0.4411 - accuracy: 0.7965 - val_loss: 0.4835 - val_accuracy: 0.7800\n",
      "Epoch 33/50\n",
      "63/63 [==============================] - 6s 98ms/step - loss: 0.4251 - accuracy: 0.8100 - val_loss: 0.4531 - val_accuracy: 0.7750\n",
      "Epoch 34/50\n",
      "63/63 [==============================] - 6s 96ms/step - loss: 0.4217 - accuracy: 0.8020 - val_loss: 0.5039 - val_accuracy: 0.7520\n",
      "Epoch 35/50\n",
      "63/63 [==============================] - 6s 96ms/step - loss: 0.4305 - accuracy: 0.8050 - val_loss: 0.5411 - val_accuracy: 0.7350\n",
      "Epoch 36/50\n",
      "63/63 [==============================] - 6s 97ms/step - loss: 0.4107 - accuracy: 0.8190 - val_loss: 0.4522 - val_accuracy: 0.8010\n",
      "Epoch 37/50\n",
      "63/63 [==============================] - 6s 96ms/step - loss: 0.3918 - accuracy: 0.8235 - val_loss: 0.4629 - val_accuracy: 0.7660\n",
      "Epoch 38/50\n",
      "63/63 [==============================] - 6s 95ms/step - loss: 0.3889 - accuracy: 0.8355 - val_loss: 0.5213 - val_accuracy: 0.7690\n",
      "Epoch 39/50\n",
      "63/63 [==============================] - 6s 95ms/step - loss: 0.3807 - accuracy: 0.8155 - val_loss: 0.4542 - val_accuracy: 0.7850\n",
      "Epoch 40/50\n",
      "63/63 [==============================] - 6s 94ms/step - loss: 0.3705 - accuracy: 0.8410 - val_loss: 0.4675 - val_accuracy: 0.7800\n",
      "Epoch 41/50\n",
      "63/63 [==============================] - 6s 98ms/step - loss: 0.3601 - accuracy: 0.8345 - val_loss: 0.4315 - val_accuracy: 0.8100\n",
      "Epoch 42/50\n",
      "63/63 [==============================] - 6s 96ms/step - loss: 0.3785 - accuracy: 0.8275 - val_loss: 0.4605 - val_accuracy: 0.7860\n",
      "Epoch 43/50\n",
      "63/63 [==============================] - 6s 95ms/step - loss: 0.3458 - accuracy: 0.8415 - val_loss: 0.4500 - val_accuracy: 0.8060\n",
      "Epoch 44/50\n",
      "63/63 [==============================] - 6s 96ms/step - loss: 0.3278 - accuracy: 0.8575 - val_loss: 0.4431 - val_accuracy: 0.8030\n",
      "Epoch 45/50\n",
      "63/63 [==============================] - 6s 96ms/step - loss: 0.3472 - accuracy: 0.8475 - val_loss: 0.4314 - val_accuracy: 0.8030\n",
      "Epoch 46/50\n",
      "63/63 [==============================] - 6s 96ms/step - loss: 0.3233 - accuracy: 0.8615 - val_loss: 0.4394 - val_accuracy: 0.8020\n",
      "Epoch 47/50\n",
      "63/63 [==============================] - 6s 95ms/step - loss: 0.3428 - accuracy: 0.8465 - val_loss: 0.4360 - val_accuracy: 0.8110\n",
      "Epoch 48/50\n",
      "63/63 [==============================] - 6s 98ms/step - loss: 0.3127 - accuracy: 0.8725 - val_loss: 0.4034 - val_accuracy: 0.8120\n",
      "Epoch 49/50\n",
      "63/63 [==============================] - 6s 96ms/step - loss: 0.2889 - accuracy: 0.8820 - val_loss: 0.4005 - val_accuracy: 0.8280\n",
      "Epoch 50/50\n",
      "63/63 [==============================] - 6s 93ms/step - loss: 0.2954 - accuracy: 0.8805 - val_loss: 0.4178 - val_accuracy: 0.8190\n"
     ]
    }
   ],
   "source": [
    "callbacks = [\n",
    "    keras.callbacks.ModelCheckpoint(\n",
    "        filepath=\"convnet_from_scratch_with_augmentation1.keras\",\n",
    "        save_best_only=True,\n",
    "        monitor=\"val_loss\")\n",
    "]\n",
    "history = model.fit(\n",
    "    train_dataset,\n",
    "    epochs=50,\n",
    "    validation_data=validation_dataset,\n",
    "    callbacks=callbacks)"
   ]
  },
  {
   "cell_type": "code",
   "execution_count": null,
   "metadata": {},
   "outputs": [],
   "source": [
    "test_model = keras.models.load_model(\n",
    "    \"convnet_from_scratch_with_augmentation1.keras\")\n",
    "test_loss, test_acc = test_model.evaluate(test_dataset)\n",
    "print(f\"Test accuracy: {test_acc:.3f}\")"
   ]
  },
  {
   "cell_type": "code",
   "execution_count": null,
   "metadata": {},
   "outputs": [],
   "source": [
    "Test accuracy - 77.50\n",
    "Train accuracy - 88.20\n",
    "Validation accuracy - 82.80\n",
    "\n",
    "As we know, data augmentation stops the model from becoming overfit. Certain augmentation combinations may result in underfitting. Additionally, the model is unable to process enough data to make good predictions, which again reduces accuracy. From this, we may infer the same conclusion.\n",
    "\n",
    "Data augmentation has allowed us to expand the number of data points, but we have not yet achieved the greatest results."
   ]
  },
  {
   "cell_type": "markdown",
   "metadata": {
    "id": "jem-rBbUhh0z"
   },
   "source": [
    "### Feature extraction with a pretrained model"
   ]
  },
  {
   "cell_type": "markdown",
   "metadata": {
    "id": "4yRq8eQiL98I"
   },
   "source": [
    "Q4. Repeat Steps 1-3, but now using a pretrained network. The sample sizes you use in Steps 2 and 3 for the pretrained network may be the same or different from those using the network where you trained from scratch. Again, use any and all optimization techniques to get best performance."
   ]
  },
  {
   "cell_type": "markdown",
   "metadata": {
    "id": "Y0wwSB_Whh0z"
   },
   "source": [
    "**Instantiating the VGG16 convolutional base**"
   ]
  },
  {
   "cell_type": "code",
   "execution_count": 30,
   "metadata": {
    "colab": {
     "base_uri": "https://localhost:8080/"
    },
    "id": "2mJiFdLChh0z",
    "outputId": "37e06539-2ea3-4115-bdbd-78e3bcc4401d"
   },
   "outputs": [
    {
     "name": "stdout",
     "output_type": "stream",
     "text": [
      "Downloading data from https://storage.googleapis.com/tensorflow/keras-applications/vgg16/vgg16_weights_tf_dim_ordering_tf_kernels_notop.h5\n",
      "58889256/58889256 [==============================] - 0s 0us/step\n"
     ]
    }
   ],
   "source": [
    "conv_base = keras.applications.vgg16.VGG16(\n",
    "    weights=\"imagenet\",\n",
    "    include_top=False,\n",
    "    input_shape=(180, 180, 3))"
   ]
  },
  {
   "cell_type": "code",
   "execution_count": 31,
   "metadata": {
    "colab": {
     "base_uri": "https://localhost:8080/"
    },
    "id": "yw5kUnCmhh0z",
    "outputId": "714bcabd-e228-48fd-a9e6-7c0371685a47"
   },
   "outputs": [
    {
     "name": "stdout",
     "output_type": "stream",
     "text": [
      "Model: \"vgg16\"\n",
      "_________________________________________________________________\n",
      " Layer (type)                Output Shape              Param #   \n",
      "=================================================================\n",
      " input_4 (InputLayer)        [(None, 180, 180, 3)]     0         \n",
      "                                                                 \n",
      " block1_conv1 (Conv2D)       (None, 180, 180, 64)      1792      \n",
      "                                                                 \n",
      " block1_conv2 (Conv2D)       (None, 180, 180, 64)      36928     \n",
      "                                                                 \n",
      " block1_pool (MaxPooling2D)  (None, 90, 90, 64)        0         \n",
      "                                                                 \n",
      " block2_conv1 (Conv2D)       (None, 90, 90, 128)       73856     \n",
      "                                                                 \n",
      " block2_conv2 (Conv2D)       (None, 90, 90, 128)       147584    \n",
      "                                                                 \n",
      " block2_pool (MaxPooling2D)  (None, 45, 45, 128)       0         \n",
      "                                                                 \n",
      " block3_conv1 (Conv2D)       (None, 45, 45, 256)       295168    \n",
      "                                                                 \n",
      " block3_conv2 (Conv2D)       (None, 45, 45, 256)       590080    \n",
      "                                                                 \n",
      " block3_conv3 (Conv2D)       (None, 45, 45, 256)       590080    \n",
      "                                                                 \n",
      " block3_pool (MaxPooling2D)  (None, 22, 22, 256)       0         \n",
      "                                                                 \n",
      " block4_conv1 (Conv2D)       (None, 22, 22, 512)       1180160   \n",
      "                                                                 \n",
      " block4_conv2 (Conv2D)       (None, 22, 22, 512)       2359808   \n",
      "                                                                 \n",
      " block4_conv3 (Conv2D)       (None, 22, 22, 512)       2359808   \n",
      "                                                                 \n",
      " block4_pool (MaxPooling2D)  (None, 11, 11, 512)       0         \n",
      "                                                                 \n",
      " block5_conv1 (Conv2D)       (None, 11, 11, 512)       2359808   \n",
      "                                                                 \n",
      " block5_conv2 (Conv2D)       (None, 11, 11, 512)       2359808   \n",
      "                                                                 \n",
      " block5_conv3 (Conv2D)       (None, 11, 11, 512)       2359808   \n",
      "                                                                 \n",
      " block5_pool (MaxPooling2D)  (None, 5, 5, 512)         0         \n",
      "                                                                 \n",
      "=================================================================\n",
      "Total params: 14,714,688\n",
      "Trainable params: 14,714,688\n",
      "Non-trainable params: 0\n",
      "_________________________________________________________________\n"
     ]
    }
   ],
   "source": [
    "conv_base.summary()"
   ]
  },
  {
   "cell_type": "markdown",
   "metadata": {
    "id": "_XAb5fc3hh0z"
   },
   "source": [
    "#### Fast feature extraction without data augmentation"
   ]
  },
  {
   "cell_type": "markdown",
   "metadata": {
    "id": "rPxFx4XChh0z"
   },
   "source": [
    "**Extracting the VGG16 features and corresponding labels**"
   ]
  },
  {
   "cell_type": "code",
   "execution_count": 32,
   "metadata": {
    "colab": {
     "base_uri": "https://localhost:8080/"
    },
    "id": "OwkbQceRhh0z",
    "outputId": "5eef73d7-7ad7-4688-de90-5ef7ba6e801c"
   },
   "outputs": [
    {
     "name": "stdout",
     "output_type": "stream",
     "text": [
      "1/1 [==============================] - 2s 2s/step\n",
      "1/1 [==============================] - 0s 27ms/step\n",
      "1/1 [==============================] - 0s 30ms/step\n",
      "1/1 [==============================] - 0s 26ms/step\n",
      "1/1 [==============================] - 0s 30ms/step\n",
      "1/1 [==============================] - 0s 30ms/step\n",
      "1/1 [==============================] - 0s 30ms/step\n",
      "1/1 [==============================] - 0s 21ms/step\n",
      "1/1 [==============================] - 0s 24ms/step\n",
      "1/1 [==============================] - 0s 23ms/step\n",
      "1/1 [==============================] - 0s 27ms/step\n",
      "1/1 [==============================] - 0s 26ms/step\n",
      "1/1 [==============================] - 0s 27ms/step\n",
      "1/1 [==============================] - 0s 26ms/step\n",
      "1/1 [==============================] - 0s 27ms/step\n",
      "1/1 [==============================] - 0s 28ms/step\n",
      "1/1 [==============================] - 0s 27ms/step\n",
      "1/1 [==============================] - 0s 29ms/step\n",
      "1/1 [==============================] - 0s 21ms/step\n",
      "1/1 [==============================] - 0s 22ms/step\n",
      "1/1 [==============================] - 0s 24ms/step\n",
      "1/1 [==============================] - 0s 22ms/step\n",
      "1/1 [==============================] - 0s 23ms/step\n",
      "1/1 [==============================] - 0s 24ms/step\n",
      "1/1 [==============================] - 0s 24ms/step\n",
      "1/1 [==============================] - 0s 23ms/step\n",
      "1/1 [==============================] - 0s 24ms/step\n",
      "1/1 [==============================] - 0s 27ms/step\n",
      "1/1 [==============================] - 0s 25ms/step\n",
      "1/1 [==============================] - 0s 21ms/step\n",
      "1/1 [==============================] - 0s 22ms/step\n",
      "1/1 [==============================] - 0s 25ms/step\n",
      "1/1 [==============================] - 0s 25ms/step\n",
      "1/1 [==============================] - 0s 26ms/step\n",
      "1/1 [==============================] - 0s 24ms/step\n",
      "1/1 [==============================] - 0s 22ms/step\n",
      "1/1 [==============================] - 0s 22ms/step\n",
      "1/1 [==============================] - 0s 23ms/step\n",
      "1/1 [==============================] - 0s 27ms/step\n",
      "1/1 [==============================] - 0s 28ms/step\n",
      "1/1 [==============================] - 0s 21ms/step\n",
      "1/1 [==============================] - 0s 23ms/step\n",
      "1/1 [==============================] - 0s 26ms/step\n",
      "1/1 [==============================] - 0s 22ms/step\n",
      "1/1 [==============================] - 0s 21ms/step\n",
      "1/1 [==============================] - 0s 22ms/step\n",
      "1/1 [==============================] - 0s 23ms/step\n",
      "1/1 [==============================] - 0s 25ms/step\n",
      "1/1 [==============================] - 0s 24ms/step\n",
      "1/1 [==============================] - 0s 25ms/step\n",
      "1/1 [==============================] - 0s 30ms/step\n",
      "1/1 [==============================] - 0s 22ms/step\n",
      "1/1 [==============================] - 0s 23ms/step\n",
      "1/1 [==============================] - 0s 22ms/step\n",
      "1/1 [==============================] - 0s 22ms/step\n",
      "1/1 [==============================] - 0s 23ms/step\n",
      "1/1 [==============================] - 0s 24ms/step\n",
      "1/1 [==============================] - 0s 22ms/step\n",
      "1/1 [==============================] - 0s 22ms/step\n",
      "1/1 [==============================] - 0s 22ms/step\n",
      "1/1 [==============================] - 0s 25ms/step\n",
      "1/1 [==============================] - 0s 29ms/step\n",
      "1/1 [==============================] - 1s 1s/step\n",
      "1/1 [==============================] - 0s 22ms/step\n",
      "1/1 [==============================] - 0s 22ms/step\n",
      "1/1 [==============================] - 0s 24ms/step\n",
      "1/1 [==============================] - 0s 25ms/step\n",
      "1/1 [==============================] - 0s 28ms/step\n",
      "1/1 [==============================] - 0s 28ms/step\n",
      "1/1 [==============================] - 0s 26ms/step\n",
      "1/1 [==============================] - 0s 23ms/step\n",
      "1/1 [==============================] - 0s 23ms/step\n",
      "1/1 [==============================] - 0s 22ms/step\n",
      "1/1 [==============================] - 0s 22ms/step\n",
      "1/1 [==============================] - 0s 22ms/step\n",
      "1/1 [==============================] - 0s 24ms/step\n",
      "1/1 [==============================] - 0s 22ms/step\n",
      "1/1 [==============================] - 0s 27ms/step\n",
      "1/1 [==============================] - 0s 28ms/step\n",
      "1/1 [==============================] - 0s 27ms/step\n",
      "1/1 [==============================] - 0s 23ms/step\n",
      "1/1 [==============================] - 0s 23ms/step\n",
      "1/1 [==============================] - 0s 22ms/step\n",
      "1/1 [==============================] - 0s 30ms/step\n",
      "1/1 [==============================] - 0s 23ms/step\n",
      "1/1 [==============================] - 0s 22ms/step\n",
      "1/1 [==============================] - 0s 23ms/step\n",
      "1/1 [==============================] - 0s 24ms/step\n",
      "1/1 [==============================] - 0s 24ms/step\n",
      "1/1 [==============================] - 0s 22ms/step\n",
      "1/1 [==============================] - 0s 22ms/step\n",
      "1/1 [==============================] - 0s 22ms/step\n",
      "1/1 [==============================] - 0s 22ms/step\n",
      "1/1 [==============================] - 0s 22ms/step\n",
      "1/1 [==============================] - 1s 916ms/step\n",
      "1/1 [==============================] - 0s 25ms/step\n",
      "1/1 [==============================] - 0s 22ms/step\n",
      "1/1 [==============================] - 0s 22ms/step\n",
      "1/1 [==============================] - 0s 26ms/step\n",
      "1/1 [==============================] - 0s 26ms/step\n",
      "1/1 [==============================] - 0s 30ms/step\n",
      "1/1 [==============================] - 0s 30ms/step\n",
      "1/1 [==============================] - 0s 30ms/step\n",
      "1/1 [==============================] - 0s 26ms/step\n",
      "1/1 [==============================] - 0s 25ms/step\n",
      "1/1 [==============================] - 0s 24ms/step\n",
      "1/1 [==============================] - 0s 26ms/step\n",
      "1/1 [==============================] - 0s 24ms/step\n",
      "1/1 [==============================] - 0s 27ms/step\n",
      "1/1 [==============================] - 0s 26ms/step\n",
      "1/1 [==============================] - 0s 25ms/step\n",
      "1/1 [==============================] - 0s 24ms/step\n",
      "1/1 [==============================] - 0s 22ms/step\n",
      "1/1 [==============================] - 0s 22ms/step\n",
      "1/1 [==============================] - 0s 25ms/step\n",
      "1/1 [==============================] - 0s 23ms/step\n",
      "1/1 [==============================] - 0s 26ms/step\n",
      "1/1 [==============================] - 0s 24ms/step\n",
      "1/1 [==============================] - 0s 22ms/step\n",
      "1/1 [==============================] - 0s 22ms/step\n",
      "1/1 [==============================] - 0s 22ms/step\n",
      "1/1 [==============================] - 0s 25ms/step\n",
      "1/1 [==============================] - 0s 23ms/step\n",
      "1/1 [==============================] - 0s 25ms/step\n",
      "1/1 [==============================] - 0s 25ms/step\n",
      "1/1 [==============================] - 0s 28ms/step\n",
      "1/1 [==============================] - 0s 17ms/step\n"
     ]
    }
   ],
   "source": [
    "import numpy as np\n",
    "\n",
    "def get_features_and_labels(dataset):\n",
    "    all_features = []\n",
    "    all_labels = []\n",
    "    for images, labels in dataset:\n",
    "        preprocessed_images = keras.applications.vgg16.preprocess_input(images)\n",
    "        features = conv_base.predict(preprocessed_images)\n",
    "        all_features.append(features)\n",
    "        all_labels.append(labels)\n",
    "    return np.concatenate(all_features), np.concatenate(all_labels)\n",
    "\n",
    "train_features, train_labels =  get_features_and_labels(train_dataset)\n",
    "val_features, val_labels =  get_features_and_labels(validation_dataset)\n",
    "test_features, test_labels =  get_features_and_labels(test_dataset)"
   ]
  },
  {
   "cell_type": "code",
   "execution_count": 33,
   "metadata": {
    "colab": {
     "base_uri": "https://localhost:8080/"
    },
    "id": "0g-pAs2Ahh00",
    "outputId": "f87f3ade-86dc-4603-85dc-ff42bbf53d50"
   },
   "outputs": [
    {
     "data": {
      "text/plain": [
       "(2000, 5, 5, 512)"
      ]
     },
     "execution_count": 33,
     "metadata": {},
     "output_type": "execute_result"
    }
   ],
   "source": [
    "train_features.shape"
   ]
  },
  {
   "cell_type": "markdown",
   "metadata": {
    "id": "ZNDNXWXGhh00"
   },
   "source": [
    "**Defining and training the densely connected classifier**"
   ]
  },
  {
   "cell_type": "code",
   "execution_count": 34,
   "metadata": {
    "colab": {
     "base_uri": "https://localhost:8080/"
    },
    "id": "kbulRNhqhh00",
    "outputId": "52f74503-42d8-4d15-c0e7-73bb21f4759f"
   },
   "outputs": [
    {
     "name": "stdout",
     "output_type": "stream",
     "text": [
      "Epoch 1/20\n",
      "63/63 [==============================] - 1s 10ms/step - loss: 14.1413 - accuracy: 0.9270 - val_loss: 4.1694 - val_accuracy: 0.9740\n",
      "Epoch 2/20\n",
      "63/63 [==============================] - 0s 6ms/step - loss: 4.2337 - accuracy: 0.9695 - val_loss: 5.8007 - val_accuracy: 0.9650\n",
      "Epoch 3/20\n",
      "63/63 [==============================] - 0s 6ms/step - loss: 1.0247 - accuracy: 0.9860 - val_loss: 7.0271 - val_accuracy: 0.9680\n",
      "Epoch 4/20\n",
      "63/63 [==============================] - 0s 7ms/step - loss: 1.2606 - accuracy: 0.9895 - val_loss: 6.0995 - val_accuracy: 0.9730\n",
      "Epoch 5/20\n",
      "63/63 [==============================] - 0s 7ms/step - loss: 0.6982 - accuracy: 0.9910 - val_loss: 5.5694 - val_accuracy: 0.9680\n",
      "Epoch 6/20\n",
      "63/63 [==============================] - 0s 7ms/step - loss: 0.7481 - accuracy: 0.9940 - val_loss: 4.2374 - val_accuracy: 0.9780\n",
      "Epoch 7/20\n",
      "63/63 [==============================] - 0s 7ms/step - loss: 0.8968 - accuracy: 0.9940 - val_loss: 6.9819 - val_accuracy: 0.9720\n",
      "Epoch 8/20\n",
      "63/63 [==============================] - 0s 6ms/step - loss: 0.3387 - accuracy: 0.9955 - val_loss: 8.4235 - val_accuracy: 0.9650\n",
      "Epoch 9/20\n",
      "63/63 [==============================] - 0s 6ms/step - loss: 0.6266 - accuracy: 0.9965 - val_loss: 4.9532 - val_accuracy: 0.9760\n",
      "Epoch 10/20\n",
      "63/63 [==============================] - 0s 7ms/step - loss: 0.4336 - accuracy: 0.9975 - val_loss: 8.6458 - val_accuracy: 0.9710\n",
      "Epoch 11/20\n",
      "63/63 [==============================] - 0s 7ms/step - loss: 0.0360 - accuracy: 0.9995 - val_loss: 4.1431 - val_accuracy: 0.9790\n",
      "Epoch 12/20\n",
      "63/63 [==============================] - 0s 6ms/step - loss: 1.6973e-16 - accuracy: 1.0000 - val_loss: 4.1431 - val_accuracy: 0.9790\n",
      "Epoch 13/20\n",
      "63/63 [==============================] - 0s 7ms/step - loss: 0.0032 - accuracy: 0.9995 - val_loss: 5.4491 - val_accuracy: 0.9740\n",
      "Epoch 14/20\n",
      "63/63 [==============================] - 0s 7ms/step - loss: 0.7003 - accuracy: 0.9955 - val_loss: 6.7586 - val_accuracy: 0.9700\n",
      "Epoch 15/20\n",
      "63/63 [==============================] - 0s 6ms/step - loss: 0.2700 - accuracy: 0.9985 - val_loss: 6.3203 - val_accuracy: 0.9760\n",
      "Epoch 16/20\n",
      "63/63 [==============================] - 0s 6ms/step - loss: 0.0000e+00 - accuracy: 1.0000 - val_loss: 6.3203 - val_accuracy: 0.9760\n",
      "Epoch 17/20\n",
      "63/63 [==============================] - 0s 7ms/step - loss: 6.1172e-15 - accuracy: 1.0000 - val_loss: 6.3203 - val_accuracy: 0.9760\n",
      "Epoch 18/20\n",
      "63/63 [==============================] - 0s 6ms/step - loss: 3.3422e-27 - accuracy: 1.0000 - val_loss: 6.3203 - val_accuracy: 0.9760\n",
      "Epoch 19/20\n",
      "63/63 [==============================] - 0s 7ms/step - loss: 0.0157 - accuracy: 0.9995 - val_loss: 7.0064 - val_accuracy: 0.9670\n",
      "Epoch 20/20\n",
      "63/63 [==============================] - 0s 6ms/step - loss: 0.0838 - accuracy: 0.9980 - val_loss: 6.5182 - val_accuracy: 0.9750\n"
     ]
    }
   ],
   "source": [
    "inputs = keras.Input(shape=(5, 5, 512))\n",
    "x = layers.Flatten()(inputs)\n",
    "x = layers.Dense(256)(x)\n",
    "x = layers.Dropout(0.5)(x)\n",
    "outputs = layers.Dense(1, activation=\"sigmoid\")(x)\n",
    "model = keras.Model(inputs, outputs)\n",
    "model.compile(loss=\"binary_crossentropy\",\n",
    "              optimizer=\"rmsprop\",\n",
    "              metrics=[\"accuracy\"])\n",
    "\n",
    "callbacks = [\n",
    "    keras.callbacks.ModelCheckpoint(\n",
    "      filepath=\"feature_extraction.keras\",\n",
    "      save_best_only=True,\n",
    "      monitor=\"val_loss\")\n",
    "]\n",
    "history = model.fit(\n",
    "    train_features, train_labels,\n",
    "    epochs=20,\n",
    "    validation_data=(val_features, val_labels),\n",
    "    callbacks=callbacks)"
   ]
  },
  {
   "cell_type": "markdown",
   "metadata": {
    "id": "kKd1y6uMhh00"
   },
   "source": [
    "**Plotting the results**"
   ]
  },
  {
   "cell_type": "code",
   "execution_count": 35,
   "metadata": {
    "colab": {
     "base_uri": "https://localhost:8080/",
     "height": 545
    },
    "id": "bVKuMan1hh00",
    "outputId": "db70ca9e-e7f9-4423-823e-64acc89c0892"
   },
   "outputs": [
    {
     "data": {
      "image/png": "[encoded data removed]",
      "text/plain": [
       "<Figure size 432x288 with 1 Axes>"
      ]
     },
     "metadata": {
      "needs_background": "light"
     },
     "output_type": "display_data"
    },
    {
     "data": {
      "image/png": "[encoded data removed]",
      "text/plain": [
       "<Figure size 432x288 with 1 Axes>"
      ]
     },
     "metadata": {
      "needs_background": "light"
     },
     "output_type": "display_data"
    }
   ],
   "source": [
    "import matplotlib.pyplot as plt\n",
    "acc = history.history[\"accuracy\"]\n",
    "val_acc = history.history[\"val_accuracy\"]\n",
    "loss = history.history[\"loss\"]\n",
    "val_loss = history.history[\"val_loss\"]\n",
    "epochs = range(1, len(acc) + 1)\n",
    "plt.plot(epochs, acc, \"bo\", label=\"Training accuracy\")\n",
    "plt.plot(epochs, val_acc, \"b\", label=\"Validation accuracy\")\n",
    "plt.title(\"Training and validation accuracy\")\n",
    "plt.legend()\n",
    "plt.figure()\n",
    "plt.plot(epochs, loss, \"bo\", label=\"Training loss\")\n",
    "plt.plot(epochs, val_loss, \"b\", label=\"Validation loss\")\n",
    "plt.title(\"Training and validation loss\")\n",
    "plt.legend()\n",
    "plt.show()"
   ]
  },
  {
   "cell_type": "markdown",
   "metadata": {
    "id": "-BHNOjiihh00"
   },
   "source": [
    "#### Feature extraction together with data augmentation"
   ]
  },
  {
   "cell_type": "markdown",
   "metadata": {
    "id": "zolDK8yShh00"
   },
   "source": [
    "**Instantiating and freezing the VGG16 convolutional base**"
   ]
  },
  {
   "cell_type": "code",
   "execution_count": 36,
   "metadata": {
    "id": "mBokkItNhh00"
   },
   "outputs": [],
   "source": [
    "conv_base  = keras.applications.vgg16.VGG16(\n",
    "    weights=\"imagenet\",\n",
    "    include_top=False)\n",
    "conv_base.trainable = False"
   ]
  },
  {
   "cell_type": "markdown",
   "metadata": {
    "id": "Ix83CKO9hh00"
   },
   "source": [
    "**Printing the list of trainable weights before and after freezing**"
   ]
  },
  {
   "cell_type": "code",
   "execution_count": 37,
   "metadata": {
    "colab": {
     "base_uri": "https://localhost:8080/"
    },
    "id": "Juh1TnKChh01",
    "outputId": "26d75bb0-06d1-4a76-d697-bb3c3e62a7bf"
   },
   "outputs": [
    {
     "name": "stdout",
     "output_type": "stream",
     "text": [
      "This is the number of trainable weights before freezing the conv base: 26\n"
     ]
    }
   ],
   "source": [
    "conv_base.trainable = True\n",
    "print(\"This is the number of trainable weights \"\n",
    "      \"before freezing the conv base:\", len(conv_base.trainable_weights))"
   ]
  },
  {
   "cell_type": "code",
   "execution_count": 38,
   "metadata": {
    "colab": {
     "base_uri": "https://localhost:8080/"
    },
    "id": "LQMouOVrhh01",
    "outputId": "1da1c7ff-b7ab-4c0c-a26f-dac3efb7c94a"
   },
   "outputs": [
    {
     "name": "stdout",
     "output_type": "stream",
     "text": [
      "This is the number of trainable weights after freezing the conv base: 0\n"
     ]
    }
   ],
   "source": [
    "conv_base.trainable = False\n",
    "print(\"This is the number of trainable weights \"\n",
    "      \"after freezing the conv base:\", len(conv_base.trainable_weights))"
   ]
  },
  {
   "cell_type": "markdown",
   "metadata": {
    "id": "Dlyxl7qjhh01"
   },
   "source": [
    "**Adding a data augmentation stage and a classifier to the convolutional base**"
   ]
  },
  {
   "cell_type": "code",
   "execution_count": 39,
   "metadata": {
    "id": "DikT5QXDhh01"
   },
   "outputs": [],
   "source": [
    "data_augmentation = keras.Sequential(\n",
    "    [\n",
    "        layers.RandomFlip(\"horizontal\"),\n",
    "        layers.RandomRotation(0.1),\n",
    "        layers.RandomZoom(0.2),\n",
    "    ]\n",
    ")\n",
    "\n",
    "inputs = keras.Input(shape=(180, 180, 3))\n",
    "x = data_augmentation(inputs)\n",
    "x = keras.applications.vgg16.preprocess_input(x)\n",
    "x = conv_base(x)\n",
    "x = layers.Flatten()(x)\n",
    "x = layers.Dense(256)(x)\n",
    "x = layers.Dropout(0.5)(x)\n",
    "outputs = layers.Dense(1, activation=\"sigmoid\")(x)\n",
    "model = keras.Model(inputs, outputs)\n",
    "model.compile(loss=\"binary_crossentropy\",\n",
    "              optimizer=\"rmsprop\",\n",
    "              metrics=[\"accuracy\"])"
   ]
  },
  {
   "cell_type": "code",
   "execution_count": 40,
   "metadata": {
    "colab": {
     "base_uri": "https://localhost:8080/"
    },
    "id": "NoAFh1dthh01",
    "outputId": "900bbce5-2e49-44a9-e3d0-d5ed2cbf697d"
   },
   "outputs": [
    {
     "name": "stdout",
     "output_type": "stream",
     "text": [
      "Epoch 1/50\n",
      "63/63 [==============================] - 15s 215ms/step - loss: 20.4303 - accuracy: 0.8930 - val_loss: 5.8101 - val_accuracy: 0.9580\n",
      "Epoch 2/50\n",
      "63/63 [==============================] - 14s 215ms/step - loss: 6.7368 - accuracy: 0.9465 - val_loss: 2.5610 - val_accuracy: 0.9840\n",
      "Epoch 3/50\n",
      "63/63 [==============================] - 14s 212ms/step - loss: 6.5848 - accuracy: 0.9565 - val_loss: 5.7077 - val_accuracy: 0.9680\n",
      "Epoch 4/50\n",
      "63/63 [==============================] - 13s 208ms/step - loss: 6.1121 - accuracy: 0.9580 - val_loss: 3.6845 - val_accuracy: 0.9800\n",
      "Epoch 5/50\n",
      "63/63 [==============================] - 13s 206ms/step - loss: 5.0244 - accuracy: 0.9610 - val_loss: 5.1383 - val_accuracy: 0.9800\n",
      "Epoch 6/50\n",
      "63/63 [==============================] - 13s 205ms/step - loss: 3.9590 - accuracy: 0.9685 - val_loss: 4.5437 - val_accuracy: 0.9760\n",
      "Epoch 7/50\n",
      "63/63 [==============================] - 13s 207ms/step - loss: 2.7516 - accuracy: 0.9730 - val_loss: 4.1021 - val_accuracy: 0.9760\n",
      "Epoch 8/50\n",
      "63/63 [==============================] - 13s 207ms/step - loss: 3.2425 - accuracy: 0.9720 - val_loss: 4.3834 - val_accuracy: 0.9720\n",
      "Epoch 9/50\n",
      "63/63 [==============================] - 13s 207ms/step - loss: 2.8643 - accuracy: 0.9710 - val_loss: 3.9379 - val_accuracy: 0.9790\n",
      "Epoch 10/50\n",
      "63/63 [==============================] - 13s 207ms/step - loss: 2.9522 - accuracy: 0.9720 - val_loss: 3.7610 - val_accuracy: 0.9740\n",
      "Epoch 11/50\n",
      "63/63 [==============================] - 13s 204ms/step - loss: 2.8929 - accuracy: 0.9750 - val_loss: 3.3024 - val_accuracy: 0.9760\n",
      "Epoch 12/50\n",
      "63/63 [==============================] - 13s 208ms/step - loss: 2.4552 - accuracy: 0.9750 - val_loss: 5.1423 - val_accuracy: 0.9710\n",
      "Epoch 13/50\n",
      "63/63 [==============================] - 13s 206ms/step - loss: 2.8223 - accuracy: 0.9745 - val_loss: 4.9094 - val_accuracy: 0.9720\n",
      "Epoch 14/50\n",
      "63/63 [==============================] - 13s 210ms/step - loss: 1.8373 - accuracy: 0.9780 - val_loss: 3.2984 - val_accuracy: 0.9770\n",
      "Epoch 15/50\n",
      "63/63 [==============================] - 13s 206ms/step - loss: 1.4983 - accuracy: 0.9785 - val_loss: 3.8219 - val_accuracy: 0.9750\n",
      "Epoch 16/50\n",
      "63/63 [==============================] - 13s 211ms/step - loss: 2.2022 - accuracy: 0.9770 - val_loss: 2.4983 - val_accuracy: 0.9790\n",
      "Epoch 17/50\n",
      "63/63 [==============================] - 13s 205ms/step - loss: 1.6286 - accuracy: 0.9780 - val_loss: 2.9949 - val_accuracy: 0.9790\n",
      "Epoch 18/50\n",
      "63/63 [==============================] - 13s 210ms/step - loss: 1.0516 - accuracy: 0.9870 - val_loss: 3.9448 - val_accuracy: 0.9730\n",
      "Epoch 19/50\n",
      "63/63 [==============================] - 13s 210ms/step - loss: 1.6109 - accuracy: 0.9815 - val_loss: 2.8088 - val_accuracy: 0.9810\n",
      "Epoch 20/50\n",
      "63/63 [==============================] - 13s 207ms/step - loss: 1.3653 - accuracy: 0.9820 - val_loss: 4.4546 - val_accuracy: 0.9690\n",
      "Epoch 21/50\n",
      "63/63 [==============================] - 13s 207ms/step - loss: 1.0364 - accuracy: 0.9830 - val_loss: 3.1950 - val_accuracy: 0.9760\n",
      "Epoch 22/50\n",
      "63/63 [==============================] - 13s 210ms/step - loss: 1.6653 - accuracy: 0.9765 - val_loss: 3.2054 - val_accuracy: 0.9760\n",
      "Epoch 23/50\n",
      "63/63 [==============================] - 13s 209ms/step - loss: 1.0241 - accuracy: 0.9840 - val_loss: 2.3995 - val_accuracy: 0.9770\n",
      "Epoch 24/50\n",
      "63/63 [==============================] - 13s 207ms/step - loss: 1.1050 - accuracy: 0.9855 - val_loss: 4.7338 - val_accuracy: 0.9680\n",
      "Epoch 25/50\n",
      "63/63 [==============================] - 14s 213ms/step - loss: 0.8997 - accuracy: 0.9860 - val_loss: 2.2110 - val_accuracy: 0.9820\n",
      "Epoch 26/50\n",
      "63/63 [==============================] - 14s 213ms/step - loss: 0.9119 - accuracy: 0.9840 - val_loss: 2.1943 - val_accuracy: 0.9820\n",
      "Epoch 27/50\n",
      "63/63 [==============================] - 13s 210ms/step - loss: 0.8322 - accuracy: 0.9845 - val_loss: 2.6765 - val_accuracy: 0.9780\n",
      "Epoch 28/50\n",
      "63/63 [==============================] - 13s 206ms/step - loss: 0.6825 - accuracy: 0.9890 - val_loss: 2.3121 - val_accuracy: 0.9810\n",
      "Epoch 29/50\n",
      "63/63 [==============================] - 13s 207ms/step - loss: 1.0879 - accuracy: 0.9825 - val_loss: 2.2487 - val_accuracy: 0.9790\n",
      "Epoch 30/50\n",
      "63/63 [==============================] - 14s 215ms/step - loss: 0.7360 - accuracy: 0.9855 - val_loss: 2.0097 - val_accuracy: 0.9800\n",
      "Epoch 31/50\n",
      "63/63 [==============================] - 13s 209ms/step - loss: 0.5170 - accuracy: 0.9910 - val_loss: 2.0301 - val_accuracy: 0.9820\n",
      "Epoch 32/50\n",
      "63/63 [==============================] - 13s 205ms/step - loss: 0.6241 - accuracy: 0.9880 - val_loss: 2.2955 - val_accuracy: 0.9800\n",
      "Epoch 33/50\n",
      "63/63 [==============================] - 13s 207ms/step - loss: 0.5899 - accuracy: 0.9895 - val_loss: 2.1839 - val_accuracy: 0.9790\n",
      "Epoch 34/50\n",
      "63/63 [==============================] - 13s 210ms/step - loss: 0.8705 - accuracy: 0.9820 - val_loss: 2.3139 - val_accuracy: 0.9750\n",
      "Epoch 35/50\n",
      "63/63 [==============================] - 13s 210ms/step - loss: 0.9412 - accuracy: 0.9820 - val_loss: 2.4652 - val_accuracy: 0.9770\n",
      "Epoch 36/50\n",
      "63/63 [==============================] - 13s 209ms/step - loss: 0.6687 - accuracy: 0.9880 - val_loss: 2.2329 - val_accuracy: 0.9760\n",
      "Epoch 37/50\n",
      "63/63 [==============================] - 13s 208ms/step - loss: 0.4957 - accuracy: 0.9885 - val_loss: 2.3410 - val_accuracy: 0.9760\n",
      "Epoch 38/50\n",
      "63/63 [==============================] - 13s 207ms/step - loss: 0.3321 - accuracy: 0.9910 - val_loss: 2.1620 - val_accuracy: 0.9790\n",
      "Epoch 39/50\n",
      "63/63 [==============================] - 13s 210ms/step - loss: 0.4599 - accuracy: 0.9900 - val_loss: 2.2974 - val_accuracy: 0.9780\n",
      "Epoch 40/50\n",
      "63/63 [==============================] - 13s 207ms/step - loss: 0.8139 - accuracy: 0.9865 - val_loss: 2.4240 - val_accuracy: 0.9800\n",
      "Epoch 41/50\n",
      "63/63 [==============================] - 13s 210ms/step - loss: 0.5389 - accuracy: 0.9890 - val_loss: 1.9825 - val_accuracy: 0.9770\n",
      "Epoch 42/50\n",
      "63/63 [==============================] - 13s 205ms/step - loss: 0.5301 - accuracy: 0.9925 - val_loss: 2.7815 - val_accuracy: 0.9740\n",
      "Epoch 43/50\n",
      "63/63 [==============================] - 13s 209ms/step - loss: 0.4359 - accuracy: 0.9885 - val_loss: 2.6753 - val_accuracy: 0.9760\n",
      "Epoch 44/50\n",
      "63/63 [==============================] - 14s 212ms/step - loss: 0.5610 - accuracy: 0.9855 - val_loss: 3.4984 - val_accuracy: 0.9720\n",
      "Epoch 45/50\n",
      "63/63 [==============================] - 13s 210ms/step - loss: 0.3940 - accuracy: 0.9900 - val_loss: 2.8799 - val_accuracy: 0.9730\n",
      "Epoch 46/50\n",
      "63/63 [==============================] - 13s 210ms/step - loss: 0.6586 - accuracy: 0.9865 - val_loss: 1.6824 - val_accuracy: 0.9810\n",
      "Epoch 47/50\n",
      "63/63 [==============================] - 13s 207ms/step - loss: 0.7502 - accuracy: 0.9870 - val_loss: 2.1089 - val_accuracy: 0.9800\n",
      "Epoch 48/50\n",
      "63/63 [==============================] - 13s 204ms/step - loss: 0.5760 - accuracy: 0.9875 - val_loss: 1.9165 - val_accuracy: 0.9800\n",
      "Epoch 49/50\n",
      "63/63 [==============================] - 13s 207ms/step - loss: 0.4411 - accuracy: 0.9910 - val_loss: 2.8641 - val_accuracy: 0.9720\n",
      "Epoch 50/50\n",
      "63/63 [==============================] - 14s 211ms/step - loss: 0.5027 - accuracy: 0.9905 - val_loss: 2.4572 - val_accuracy: 0.9760\n"
     ]
    }
   ],
   "source": [
    "callbacks = [\n",
    "    keras.callbacks.ModelCheckpoint(\n",
    "        filepath=\"feature_extraction_with_data_augmentation.keras\",\n",
    "        save_best_only=True,\n",
    "        monitor=\"val_loss\")\n",
    "]\n",
    "history = model.fit(\n",
    "    train_dataset,\n",
    "    epochs=50,\n",
    "    validation_data=validation_dataset,\n",
    "    callbacks=callbacks)"
   ]
  },
  {
   "cell_type": "markdown",
   "metadata": {
    "id": "FBy_4KT9hh01"
   },
   "source": [
    "**Evaluating the model on the test set**"
   ]
  },
  {
   "cell_type": "code",
   "execution_count": 41,
   "metadata": {
    "colab": {
     "base_uri": "https://localhost:8080/"
    },
    "id": "nFx3RVtVhh01",
    "outputId": "32c9dff1-d5bd-44c0-bac0-41c34622f6d7"
   },
   "outputs": [
    {
     "name": "stdout",
     "output_type": "stream",
     "text": [
      "32/32 [==============================] - 4s 115ms/step - loss: 2.4791 - accuracy: 0.9780\n",
      "Test accuracy: 0.978\n"
     ]
    }
   ],
   "source": [
    "test_model = keras.models.load_model(\n",
    "    \"feature_extraction_with_data_augmentation.keras\")\n",
    "test_loss, test_acc = test_model.evaluate(test_dataset)\n",
    "print(f\"Test accuracy: {test_acc:.3f}\")"
   ]
  },
  {
   "cell_type": "markdown",
   "metadata": {
    "id": "7l2QFvtbhh01"
   },
   "source": [
    "### Fine-tuning a pretrained model"
   ]
  },
  {
   "cell_type": "code",
   "execution_count": 42,
   "metadata": {
    "colab": {
     "base_uri": "https://localhost:8080/"
    },
    "id": "hb0jYKFohh01",
    "outputId": "40957070-0232-48c4-9ff6-31d358ec89ff"
   },
   "outputs": [
    {
     "name": "stdout",
     "output_type": "stream",
     "text": [
      "Model: \"vgg16\"\n",
      "_________________________________________________________________\n",
      " Layer (type)                Output Shape              Param #   \n",
      "=================================================================\n",
      " input_6 (InputLayer)        [(None, None, None, 3)]   0         \n",
      "                                                                 \n",
      " block1_conv1 (Conv2D)       (None, None, None, 64)    1792      \n",
      "                                                                 \n",
      " block1_conv2 (Conv2D)       (None, None, None, 64)    36928     \n",
      "                                                                 \n",
      " block1_pool (MaxPooling2D)  (None, None, None, 64)    0         \n",
      "                                                                 \n",
      " block2_conv1 (Conv2D)       (None, None, None, 128)   73856     \n",
      "                                                                 \n",
      " block2_conv2 (Conv2D)       (None, None, None, 128)   147584    \n",
      "                                                                 \n",
      " block2_pool (MaxPooling2D)  (None, None, None, 128)   0         \n",
      "                                                                 \n",
      " block3_conv1 (Conv2D)       (None, None, None, 256)   295168    \n",
      "                                                                 \n",
      " block3_conv2 (Conv2D)       (None, None, None, 256)   590080    \n",
      "                                                                 \n",
      " block3_conv3 (Conv2D)       (None, None, None, 256)   590080    \n",
      "                                                                 \n",
      " block3_pool (MaxPooling2D)  (None, None, None, 256)   0         \n",
      "                                                                 \n",
      " block4_conv1 (Conv2D)       (None, None, None, 512)   1180160   \n",
      "                                                                 \n",
      " block4_conv2 (Conv2D)       (None, None, None, 512)   2359808   \n",
      "                                                                 \n",
      " block4_conv3 (Conv2D)       (None, None, None, 512)   2359808   \n",
      "                                                                 \n",
      " block4_pool (MaxPooling2D)  (None, None, None, 512)   0         \n",
      "                                                                 \n",
      " block5_conv1 (Conv2D)       (None, None, None, 512)   2359808   \n",
      "                                                                 \n",
      " block5_conv2 (Conv2D)       (None, None, None, 512)   2359808   \n",
      "                                                                 \n",
      " block5_conv3 (Conv2D)       (None, None, None, 512)   2359808   \n",
      "                                                                 \n",
      " block5_pool (MaxPooling2D)  (None, None, None, 512)   0         \n",
      "                                                                 \n",
      "=================================================================\n",
      "Total params: 14,714,688\n",
      "Trainable params: 0\n",
      "Non-trainable params: 14,714,688\n",
      "_________________________________________________________________\n"
     ]
    }
   ],
   "source": [
    "conv_base.summary()"
   ]
  },
  {
   "cell_type": "markdown",
   "metadata": {
    "id": "0zX_6n6_hh01"
   },
   "source": [
    "**Freezing all layers until the fourth from the last**"
   ]
  },
  {
   "cell_type": "code",
   "execution_count": 43,
   "metadata": {
    "id": "fMuwQyBihh02"
   },
   "outputs": [],
   "source": [
    "conv_base.trainable = True\n",
    "for layer in conv_base.layers[:-4]:\n",
    "    layer.trainable = False"
   ]
  },
  {
   "cell_type": "markdown",
   "metadata": {
    "id": "BhTtT4mfhh02"
   },
   "source": [
    "**Fine-tuning the model**"
   ]
  },
  {
   "cell_type": "code",
   "execution_count": 44,
   "metadata": {
    "colab": {
     "base_uri": "https://localhost:8080/"
    },
    "id": "Sqsy_i-phh02",
    "outputId": "710a7505-d260-4c49-e317-c5f57d9b5d0c"
   },
   "outputs": [
    {
     "name": "stdout",
     "output_type": "stream",
     "text": [
      "Epoch 1/30\n",
      "63/63 [==============================] - 17s 239ms/step - loss: 0.4488 - accuracy: 0.9915 - val_loss: 2.1248 - val_accuracy: 0.9770\n",
      "Epoch 2/30\n",
      "63/63 [==============================] - 15s 238ms/step - loss: 0.2818 - accuracy: 0.9910 - val_loss: 1.8582 - val_accuracy: 0.9780\n",
      "Epoch 3/30\n",
      "63/63 [==============================] - 15s 236ms/step - loss: 0.4848 - accuracy: 0.9890 - val_loss: 1.5537 - val_accuracy: 0.9790\n",
      "Epoch 4/30\n",
      "63/63 [==============================] - 15s 229ms/step - loss: 0.3986 - accuracy: 0.9910 - val_loss: 1.6889 - val_accuracy: 0.9780\n",
      "Epoch 5/30\n",
      "63/63 [==============================] - 15s 229ms/step - loss: 0.3025 - accuracy: 0.9900 - val_loss: 2.9498 - val_accuracy: 0.9720\n",
      "Epoch 6/30\n",
      "63/63 [==============================] - 15s 228ms/step - loss: 0.1203 - accuracy: 0.9930 - val_loss: 1.6407 - val_accuracy: 0.9790\n",
      "Epoch 7/30\n",
      "63/63 [==============================] - 15s 233ms/step - loss: 0.2110 - accuracy: 0.9950 - val_loss: 1.7543 - val_accuracy: 0.9810\n",
      "Epoch 8/30\n",
      "63/63 [==============================] - 15s 235ms/step - loss: 0.2163 - accuracy: 0.9950 - val_loss: 1.6245 - val_accuracy: 0.9820\n",
      "Epoch 9/30\n",
      "63/63 [==============================] - 15s 237ms/step - loss: 0.2383 - accuracy: 0.9955 - val_loss: 1.4774 - val_accuracy: 0.9810\n",
      "Epoch 10/30\n",
      "63/63 [==============================] - 15s 228ms/step - loss: 0.2872 - accuracy: 0.9925 - val_loss: 1.6860 - val_accuracy: 0.9780\n",
      "Epoch 11/30\n",
      "63/63 [==============================] - 15s 230ms/step - loss: 0.1454 - accuracy: 0.9945 - val_loss: 1.7078 - val_accuracy: 0.9780\n",
      "Epoch 12/30\n",
      "63/63 [==============================] - 15s 236ms/step - loss: 0.2771 - accuracy: 0.9915 - val_loss: 1.5994 - val_accuracy: 0.9790\n",
      "Epoch 13/30\n",
      "63/63 [==============================] - 15s 233ms/step - loss: 0.1235 - accuracy: 0.9960 - val_loss: 1.7532 - val_accuracy: 0.9780\n",
      "Epoch 14/30\n",
      "63/63 [==============================] - 15s 230ms/step - loss: 0.2940 - accuracy: 0.9920 - val_loss: 1.5200 - val_accuracy: 0.9790\n",
      "Epoch 15/30\n",
      "63/63 [==============================] - 15s 229ms/step - loss: 0.2222 - accuracy: 0.9925 - val_loss: 3.1015 - val_accuracy: 0.9680\n",
      "Epoch 16/30\n",
      "63/63 [==============================] - 15s 229ms/step - loss: 0.1522 - accuracy: 0.9930 - val_loss: 1.8708 - val_accuracy: 0.9740\n",
      "Epoch 17/30\n",
      "63/63 [==============================] - 15s 238ms/step - loss: 0.0461 - accuracy: 0.9980 - val_loss: 1.2762 - val_accuracy: 0.9830\n",
      "Epoch 18/30\n",
      "63/63 [==============================] - 15s 236ms/step - loss: 0.2297 - accuracy: 0.9950 - val_loss: 1.3217 - val_accuracy: 0.9790\n",
      "Epoch 19/30\n",
      "63/63 [==============================] - 15s 228ms/step - loss: 0.2529 - accuracy: 0.9940 - val_loss: 1.5877 - val_accuracy: 0.9730\n",
      "Epoch 20/30\n",
      "63/63 [==============================] - 15s 234ms/step - loss: 0.2101 - accuracy: 0.9935 - val_loss: 1.0559 - val_accuracy: 0.9800\n",
      "Epoch 21/30\n",
      "63/63 [==============================] - 15s 232ms/step - loss: 0.2532 - accuracy: 0.9910 - val_loss: 1.2448 - val_accuracy: 0.9760\n",
      "Epoch 22/30\n",
      "63/63 [==============================] - 15s 230ms/step - loss: 0.1965 - accuracy: 0.9940 - val_loss: 1.3104 - val_accuracy: 0.9810\n",
      "Epoch 23/30\n",
      "63/63 [==============================] - 15s 231ms/step - loss: 0.1872 - accuracy: 0.9950 - val_loss: 1.8551 - val_accuracy: 0.9730\n",
      "Epoch 24/30\n",
      "63/63 [==============================] - 15s 229ms/step - loss: 0.0620 - accuracy: 0.9955 - val_loss: 1.5315 - val_accuracy: 0.9770\n",
      "Epoch 25/30\n",
      "63/63 [==============================] - 15s 230ms/step - loss: 0.0941 - accuracy: 0.9940 - val_loss: 1.3950 - val_accuracy: 0.9770\n",
      "Epoch 26/30\n",
      "63/63 [==============================] - 15s 231ms/step - loss: 0.1165 - accuracy: 0.9965 - val_loss: 1.5480 - val_accuracy: 0.9730\n",
      "Epoch 27/30\n",
      "63/63 [==============================] - 15s 229ms/step - loss: 0.0768 - accuracy: 0.9960 - val_loss: 1.1269 - val_accuracy: 0.9790\n",
      "Epoch 28/30\n",
      "63/63 [==============================] - 15s 232ms/step - loss: 0.0813 - accuracy: 0.9950 - val_loss: 1.6756 - val_accuracy: 0.9720\n",
      "Epoch 29/30\n",
      "63/63 [==============================] - 15s 233ms/step - loss: 0.0277 - accuracy: 0.9980 - val_loss: 2.0904 - val_accuracy: 0.9690\n",
      "Epoch 30/30\n",
      "63/63 [==============================] - 15s 230ms/step - loss: 0.1957 - accuracy: 0.9950 - val_loss: 1.7264 - val_accuracy: 0.9750\n"
     ]
    }
   ],
   "source": [
    "model.compile(loss=\"binary_crossentropy\",\n",
    "              optimizer=keras.optimizers.RMSprop(learning_rate=1e-5),\n",
    "              metrics=[\"accuracy\"])\n",
    "\n",
    "callbacks = [\n",
    "    keras.callbacks.ModelCheckpoint(\n",
    "        filepath=\"fine_tuning.keras\",\n",
    "        save_best_only=True,\n",
    "        monitor=\"val_loss\")\n",
    "]\n",
    "history = model.fit(\n",
    "    train_dataset,\n",
    "    epochs=30,\n",
    "    validation_data=validation_dataset,\n",
    "    callbacks=callbacks)"
   ]
  },
  {
   "cell_type": "code",
   "execution_count": 45,
   "metadata": {
    "colab": {
     "base_uri": "https://localhost:8080/"
    },
    "id": "ITz7SewZhh02",
    "outputId": "e17bae94-9246-4b09-b215-80c73e154be9"
   },
   "outputs": [
    {
     "name": "stdout",
     "output_type": "stream",
     "text": [
      "32/32 [==============================] - 4s 116ms/step - loss: 1.4349 - accuracy: 0.9810\n",
      "Test accuracy: 0.981\n"
     ]
    }
   ],
   "source": [
    "model = keras.models.load_model(\"fine_tuning.keras\")\n",
    "test_loss, test_acc = model.evaluate(test_dataset)\n",
    "print(f\"Test accuracy: {test_acc:.3f}\")"
   ]
  },
  {
   "cell_type": "markdown",
   "metadata": {},
   "source": [
    "Using a Pre-trained model without Augmentation\n",
    "We reach a validation accuracy of about 97.80% which is better than what we achieved while training the small model from scratch. However, the plots also indicate that we’re overfitting almost from the start—despite using dropout with a fairly large rate.\n",
    "\n",
    "Using a Pre-trained model with Augmentation\n",
    "A model’s accuracy always depends on the set of samples one evaluates it on! Some sample sets may be more difficult than others, and strong results on one set won’t necessarily fully translate to all other sets. because of this reason, Pretrained model With Augmentation, there was just a minor increase in the accuracy from 97.80% to 98.10%."
   ]
  },
  {
   "cell_type": "markdown",
   "metadata": {},
   "source": [
    "Conclusion:\n",
    "As we know, increasing the data points or training samples with better techniques(Data augmentation) we are able to get better results."
   ]
  },
  {
   "cell_type": "code",
   "execution_count": null,
   "metadata": {},
   "outputs": [],
   "source": []
  }
 ],
 "metadata": {
  "accelerator": "GPU",
  "colab": {
   "collapsed_sections": [],
   "provenance": []
  },
  "gpuClass": "standard",
  "kernelspec": {
   "display_name": "Python 3 (ipykernel)",
   "language": "python",
   "name": "python3"
  },
  "language_info": {
   "codemirror_mode": {
    "name": "ipython",
    "version": 3
   },
   "file_extension": ".py",
   "mimetype": "text/x-python",
   "name": "python",
   "nbconvert_exporter": "python",
   "pygments_lexer": "ipython3",
   "version": "3.9.7"
  }
 },
 "nbformat": 4,
 "nbformat_minor": 1
}
